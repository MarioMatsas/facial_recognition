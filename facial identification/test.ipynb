{
  "cells": [
    {
      "cell_type": "code",
      "execution_count": null,
      "metadata": {
        "trusted": true
      },
      "outputs": [],
      "source": [
        "%pip install tensorflow opencv-python matplotlib"
      ]
    },
    {
      "cell_type": "code",
      "execution_count": 2,
      "metadata": {},
      "outputs": [],
      "source": [
        "# Standard dependencies\n",
        "import cv2\n",
        "import os\n",
        "import random\n",
        "import numpy as np # For re-shaping arrays\n",
        "from matplotlib import pyplot as plt # Visualise images\n",
        "\n",
        "# Tensorflow dependencies\n",
        "import tensorflow as tf\n",
        "from tensorflow.python.keras.models import Model\n",
        "from tensorflow.python.keras.layers import Layer, Conv2D, Dense, MaxPooling2D, Input, Flatten"
      ]
    },
    {
      "cell_type": "code",
      "execution_count": null,
      "metadata": {},
      "outputs": [],
      "source": [
        "# To avoid running out of memory, we restrict the GPU memory growth aka\n",
        "# how many resources the model is consuming at any given time\n",
        "gpus = tf.config.experimental.list_physical_devices('GPU')\n",
        "for gpu in gpus:\n",
        "    # Just in case the device we are using has more than one gpu, we are \n",
        "    # making sure to restrict the usage of ALL of them\n",
        "    tf.config.experimental.set_memory_growth(gpu, True)"
      ]
    },
    {
      "cell_type": "code",
      "execution_count": null,
      "metadata": {},
      "outputs": [],
      "source": [
        "# Create files that will hold the anchor, positive and negative images:\n",
        "# Anchor: The image we imput\n",
        "# Positive: Images that match the anchor\n",
        "# Negative: Images that are different from the anchor\n",
        "anc_path = os.path.join(\"data\",\"anchor\")\n",
        "pos_path = os.path.join(\"data\",\"positive\")\n",
        "neg_path = os.path.join(\"data\",\"negative\")\n",
        "\n",
        "os.makedirs(anc_path)\n",
        "os.makedirs(pos_path)\n",
        "os.makedirs(neg_path)\n"
      ]
    },
    {
      "cell_type": "code",
      "execution_count": null,
      "metadata": {},
      "outputs": [],
      "source": [
        "# Uncompress the tar file that contains the images in the Wild Dataface\n",
        "!tar -xf lfw.tgz"
      ]
    },
    {
      "cell_type": "code",
      "execution_count": null,
      "metadata": {},
      "outputs": [],
      "source": [
        "# We take the images that we downloaded and place in the negative folder\n",
        "# (these images will be used so that the machine can understand that the\n",
        "# person whose image we are providing isn't the same as any of the ones in\n",
        "# the negative folder)\n",
        "\n",
        "# Go through all the directories in the lfw folder\n",
        "for directory in os.listdir('lfw'):\n",
        "    # Find all the images in said directory\n",
        "    for file in os.listdir(os.path.join('lfw',directory)):\n",
        "        # Replace the path of that image with the path of the negative folder\n",
        "        # (aka place the image in the negative folder)\n",
        "        previous_path = os.path.join('lfw', directory, file)\n",
        "        new_path = os.path.join(neg_path, file)\n",
        "        os.replace(previous_path, new_path)"
      ]
    },
    {
      "cell_type": "code",
      "execution_count": null,
      "metadata": {},
      "outputs": [],
      "source": [
        "# Importing this so that the images we save  all have different names\n",
        "import uuid\n",
        "\n",
        "# Now we will get the images we will require for the anchor and positive files\n",
        "\n",
        "# Connect to the webcam\n",
        "capture = cv2.VideoCapture(0) # Keep in mind this number might vary slightly\n",
        "                              # so try out a few other numbers like 1, 2, 3, 4, 5 etc in case there is a problem\n",
        "while (capture.isOpened()):\n",
        "    return_value, frame = capture.read()\n",
        "\n",
        "    # Keeping in mind that the images in the negative folder have a resolution of 250x250\n",
        "    # we need out frames (aka the images we will capture) to be 250x250 as well\n",
        "    frame = frame[120:370, 200:450, :]\n",
        "    print(frame[2])\n",
        "\n",
        "    # Show the camera feed\n",
        "    cv2.imshow(\"Images\", frame)\n",
        "\n",
        "    # Add image to anchor if 'a' is pressed\n",
        "    if (cv2.waitKey(1) & 0XFF == ord('a')):\n",
        "        # Create the unique name and save the image\n",
        "        name = os.path.join(anc_path, '{}.jpg'.format(uuid.uuid1()))\n",
        "        cv2.imwrite(name, frame)\n",
        "    \n",
        "    # Add image to positive if 'p' is pressed\n",
        "    if (cv2.waitKey(1) & 0XFF == ord('p')):\n",
        "        # Create the unique name and save the image\n",
        "        name = os.path.join(pos_path, '{}.jpg'.format(uuid.uuid1()))\n",
        "        cv2.imwrite(name, frame)\n",
        "\n",
        "    # Break by pressing he 'q' key\n",
        "    if (cv2.waitKey(1) & 0XFF == ord('q')):\n",
        "        break\n",
        "\n",
        "# Release webcam\n",
        "capture.release()\n",
        "# Close the camera feed window\n",
        "cv2.destroyAllWindows()"
      ]
    },
    {
      "cell_type": "code",
      "execution_count": null,
      "metadata": {},
      "outputs": [],
      "source": [
        "# Get 300 image paths from each image set\n",
        "anchor = tf.data.Dataset.list_files(anc_path+'\\*.jpg').take(300)\n",
        "positive = tf.data.Dataset.list_files(pos_path+'\\*.jpg').take(300)\n",
        "negative = tf.data.Dataset.list_files(neg_path+'\\*.jpg').take(300)"
      ]
    },
    {
      "cell_type": "code",
      "execution_count": null,
      "metadata": {},
      "outputs": [],
      "source": [
        "# Scale and resize the images\n",
        "def preprocess(file_path):\n",
        "    # Get byte code of image (the file path) and then decode it\n",
        "    byte_img = tf.io.read_file(file_path)\n",
        "    img = tf.io.decode_jpeg(byte_img)\n",
        "\n",
        "    img = tf.image.resize(img, (105, 105)) # Resizing out image according to the \"Siamese Neural Networks\"\n",
        "                                           # research paper\n",
        "    img = img / 255 # Scale every pixel value to 0-1 => scale the image\n",
        "    return img"
      ]
    },
    {
      "cell_type": "code",
      "execution_count": null,
      "metadata": {},
      "outputs": [],
      "source": [
        "# Depending on the inputs (anchor, positive) or (anchor, negative) we will be\n",
        "# getting a result ( a label ) as follows:\n",
        "# (anchor, positive) => 1\n",
        "# (anchor, negative) => 0\n",
        "\n",
        "positives = tf.data.Dataset.zip((anchor, positive, tf.data.Dataset.from_tensor_slices(tf.ones(len(anchor)))))\n",
        "negatives = tf.data.Dataset.zip((anchor, negative, tf.data.Dataset.from_tensor_slices(tf.zeros(len(anchor)))))\n",
        "data = positives.concatenate(negatives) # Combine the positives and negatives"
      ]
    },
    {
      "cell_type": "code",
      "execution_count": null,
      "metadata": {},
      "outputs": [],
      "source": [
        "samples = data.as_numpy_iterator()"
      ]
    },
    {
      "cell_type": "code",
      "execution_count": null,
      "metadata": {},
      "outputs": [],
      "source": [
        "example = samples.next()\n"
      ]
    },
    {
      "cell_type": "code",
      "execution_count": null,
      "metadata": {},
      "outputs": [],
      "source": [
        "# Create function to scale and resize both images we pass\n",
        "def twin_preprocess(anc, verification_image, label):\n",
        "    return (preprocess(anc), preprocess(verification_image), label)\n",
        "\n",
        "res = twin_preprocess(*example)\n",
        "plt.imshow(res[0])"
      ]
    },
    {
      "cell_type": "code",
      "execution_count": null,
      "metadata": {},
      "outputs": [],
      "source": [
        "# Dataloader pipeline\n",
        "data = data.map(twin_preprocess) # ERROR TO_DO\n",
        "data = data.cache()\n",
        "data = data.shuffle(buffer_size=1024) # Simply mix the positive and negative images"
      ]
    },
    {
      "cell_type": "code",
      "execution_count": null,
      "metadata": {},
      "outputs": [],
      "source": [
        "# Training partition\n",
        "train_data = data.take((round(len(data)*0.7))) # Get 70% of the samples\n",
        "train_data = train_data.batch(16) # Pass 16 images each time\n",
        "train_data = train_data.prefetch(8) # Preprocess the next image beforehand\n"
      ]
    },
    {
      "cell_type": "code",
      "execution_count": null,
      "metadata": {},
      "outputs": [],
      "source": [
        "train_sumples = train_data.as_numpy_iterator()\n",
        "\n",
        "len(train_sumples.next()[0])"
      ]
    },
    {
      "cell_type": "code",
      "execution_count": null,
      "metadata": {},
      "outputs": [],
      "source": [
        "# Testing Partition\n",
        "test_data = data.skip((round(len(data)*0.7)))\n",
        "test_data = test_data.take((round(len(data)*0.3)))\n",
        "test_data = test_data.batch(16)\n",
        "test_data = test_data.prefetch(8)"
      ]
    },
    {
      "cell_type": "code",
      "execution_count": 22,
      "metadata": {},
      "outputs": [],
      "source": [
        "# Embedding layer\n",
        "\n",
        "def make_embedding():\n",
        "    # Input\n",
        "    inp = Input(shape=(105, 105, 3), name=\"input_image\")\n",
        "\n",
        "    # First block\n",
        "    # Convolusion layer\n",
        "    c1 = Conv2D(64, (10, 10), activation=\"relu\")(inp)\n",
        "    # Max pooling layer\n",
        "    m1  = MaxPooling2D(64, (2, 2), padding=\"same\")(c1)\n",
        "\n",
        "    # Second block\n",
        "    c2 = Conv2D(128, (7, 7), activation=\"relu\")(m1)\n",
        "    m2 = MaxPooling2D(64, (2, 2), padding=\"same\")(c2)\n",
        "\n",
        "    # Third block\n",
        "    c3 = Conv2D(128, (4, 4), activation=\"relu\")(m2)\n",
        "    m3 = MaxPooling2D(64, (2, 2), padding=\"same\")(c3)\n",
        "\n",
        "    # Final embedding block\n",
        "    c4 = Conv2D(256, (4, 4), activation=\"relu\")(m3)\n",
        "    f1 = Flatten()(c4)\n",
        "    d1 = Dense(4096, activation=\"sigmoid\")(f1)\n",
        "\n",
        "    return Model(inputs=[inp], outputs=[d1], name=\"embedding\")"
      ]
    },
    {
      "cell_type": "code",
      "execution_count": null,
      "metadata": {},
      "outputs": [],
      "source": [
        "inp = Input(shape=(105, 105, 3), name=\"input_image\")\n",
        "c1 = Conv2D(64, (10, 10), activation=\"relu\")(inp)\n",
        "m1  = MaxPooling2D(64, (2, 2), padding=\"same\")(c1)\n",
        "c2 = Conv2D(128, (7, 7), activation=\"relu\")(m1)\n",
        "m2 = MaxPooling2D(64, (2, 2), padding=\"same\")(c2)\n",
        "c3 = Conv2D(128, (4, 4), activation=\"relu\")(m2)\n",
        "m3 = MaxPooling2D(64, (2, 2), padding=\"same\")(c3)\n",
        "c4 = Conv2D(256, (4, 4), activation=\"relu\")(m3)\n",
        "f1 = Flatten()(c4) # will output 6*6*256\n",
        "d1 = Dense(4096, activation=\"sigmoid\")(f1)\n",
        "mod = Model(inputs=[inp], outputs=[d1], name=\"embedding\")\n"
      ]
    },
    {
      "cell_type": "code",
      "execution_count": 23,
      "metadata": {},
      "outputs": [],
      "source": [
        "embedding = make_embedding()"
      ]
    },
    {
      "cell_type": "code",
      "execution_count": 25,
      "metadata": {},
      "outputs": [
        {
          "name": "stdout",
          "output_type": "stream",
          "text": [
            "Model: \"embedding\"\n",
            "_________________________________________________________________\n",
            "Layer (type)                 Output Shape              Param #   \n",
            "=================================================================\n",
            "input_image (InputLayer)     [(None, 105, 105, 3)]     0         \n",
            "_________________________________________________________________\n",
            "conv2d_35 (Conv2D)           (None, 96, 96, 64)        19264     \n",
            "_________________________________________________________________\n",
            "max_pooling2d_29 (MaxPooling (None, 48, 48, 64)        0         \n",
            "_________________________________________________________________\n",
            "conv2d_36 (Conv2D)           (None, 42, 42, 128)       401536    \n",
            "_________________________________________________________________\n",
            "max_pooling2d_30 (MaxPooling (None, 21, 21, 128)       0         \n",
            "_________________________________________________________________\n",
            "conv2d_37 (Conv2D)           (None, 18, 18, 128)       262272    \n",
            "_________________________________________________________________\n",
            "max_pooling2d_31 (MaxPooling (None, 9, 9, 128)         0         \n",
            "_________________________________________________________________\n",
            "conv2d_38 (Conv2D)           (None, 6, 6, 256)         524544    \n",
            "_________________________________________________________________\n",
            "flatten_5 (Flatten)          (None, 9216)              0         \n",
            "_________________________________________________________________\n",
            "dense_5 (Dense)              (None, 4096)              37752832  \n",
            "=================================================================\n",
            "Total params: 38,960,448\n",
            "Trainable params: 38,960,448\n",
            "Non-trainable params: 0\n",
            "_________________________________________________________________\n"
          ]
        }
      ],
      "source": [
        "embedding.summary()"
      ]
    },
    {
      "cell_type": "code",
      "execution_count": 19,
      "metadata": {},
      "outputs": [],
      "source": [
        "# Distance layer\n",
        "class L1Dist(Layer):\n",
        "    def __init__(self, **kwargs):\n",
        "        super().__init__()\n",
        "    \n",
        "    # We input our anchor embedding and either a posivite or negative embedding and output their distance\n",
        "    def call(self, input_embedding, validation_embedding):\n",
        "        return tf.math.abs(input_embedding - validation_embedding)"
      ]
    },
    {
      "cell_type": "code",
      "execution_count": 29,
      "metadata": {},
      "outputs": [
        {
          "name": "stdout",
          "output_type": "stream",
          "text": [
            "Model: \"Siamese Network\"\n",
            "__________________________________________________________________________________________________\n",
            "Layer (type)                    Output Shape         Param #     Connected to                     \n",
            "==================================================================================================\n",
            "input_img (InputLayer)          [(None, 105, 105, 3) 0                                            \n",
            "__________________________________________________________________________________________________\n",
            "validation_img (InputLayer)     [(None, 105, 105, 3) 0                                            \n",
            "__________________________________________________________________________________________________\n",
            "embedding (Functional)          (None, 4096)         38960448    input_img[0][0]                  \n",
            "                                                                 validation_img[0][0]             \n",
            "__________________________________________________________________________________________________\n",
            "l1_dist_4 (L1Dist)              (None, 4096)         0           embedding[6][0]                  \n",
            "                                                                 embedding[7][0]                  \n",
            "__________________________________________________________________________________________________\n",
            "dense_8 (Dense)                 (None, 1)            4097        l1_dist_4[0][0]                  \n",
            "==================================================================================================\n",
            "Total params: 38,964,545\n",
            "Trainable params: 38,964,545\n",
            "Non-trainable params: 0\n",
            "__________________________________________________________________________________________________\n"
          ]
        }
      ],
      "source": [
        "# Anchor input image\n",
        "input_image = Input(name=\"input_img\", shape=(105, 105, 3))\n",
        "# Positive / Negative input image\n",
        "validation_image = Input(name=\"validation_img\", shape=(105, 105, 3))\n",
        "\n",
        "inp_emb = embedding(input_image)\n",
        "val_emb = embedding(validation_image)\n",
        "\n",
        "siam = L1Dist()\n",
        "distances = siam(inp_emb, val_emb)\n",
        "\n",
        "# Classification layer\n",
        "classifier = Dense(1, activation=\"sigmoid\")(distances)\n",
        "\n",
        "s = Model(inputs=[input_image, validation_image], outputs=classifier, name=\"Siamese Network\")\n",
        "\n",
        "s.summary()\n"
      ]
    },
    {
      "cell_type": "code",
      "execution_count": null,
      "metadata": {},
      "outputs": [],
      "source": [
        "# Siamese model\n",
        "def make_siamese_model():\n",
        "    # Anchor input image\n",
        "    input_image = Input(name=\"input_img\", shape=(105, 105, 3))\n",
        "    # Positive / Negative input image\n",
        "    validation_image = Input(name=\"validation_img\", shape=(105, 105, 3))\n",
        "\n",
        "    # Combine Siamese distance\n",
        "    siamese_layer = L1Dist()\n",
        "    siamese_layer._name = \"distance\"\n",
        "    distances = siamese_layer(embedding(input_image), embedding(validation_image))\n",
        "\n",
        "    # Classification layer\n",
        "    classifier = Dense(1, activation=\"sigmoid\")(distances)\n",
        "\n",
        "    return Model(inputs=[input_image, validation_image], outputs=classifier, name=\"Siamese Network\")"
      ]
    }
  ],
  "metadata": {
    "kernelspec": {
      "display_name": "Python 3",
      "language": "python",
      "name": "python3"
    },
    "language_info": {
      "codemirror_mode": {
        "name": "ipython",
        "version": 3
      },
      "file_extension": ".py",
      "mimetype": "text/x-python",
      "name": "python",
      "nbconvert_exporter": "python",
      "pygments_lexer": "ipython3",
      "version": "3.10.8"
    }
  },
  "nbformat": 4,
  "nbformat_minor": 4
}
