{
  "cells": [
    {
      "cell_type": "code",
      "execution_count": 1,
      "metadata": {},
      "outputs": [
        {
          "name": "stdout",
          "output_type": "stream",
          "text": [
            "Collecting tensorflow==2.10Note: you may need to restart the kernel to use updated packages.\n",
            "\n",
            "  Using cached tensorflow-2.10.0-cp310-cp310-win_amd64.whl (455.9 MB)\n",
            "Requirement already satisfied: opencv-python in c:\\users\\matsa\\appdata\\local\\programs\\python\\python310\\lib\\site-packages (4.8.0.76)\n",
            "Requirement already satisfied: matplotlib in c:\\users\\matsa\\appdata\\local\\programs\\python\\python310\\lib\\site-packages (3.8.0)\n",
            "Requirement already satisfied: absl-py>=1.0.0 in c:\\users\\matsa\\appdata\\local\\programs\\python\\python310\\lib\\site-packages (from tensorflow==2.10) (1.4.0)\n",
            "Requirement already satisfied: astunparse>=1.6.0 in c:\\users\\matsa\\appdata\\local\\programs\\python\\python310\\lib\\site-packages (from tensorflow==2.10) (1.6.3)\n",
            "Requirement already satisfied: flatbuffers>=2.0 in c:\\users\\matsa\\appdata\\local\\programs\\python\\python310\\lib\\site-packages (from tensorflow==2.10) (23.5.26)\n",
            "Requirement already satisfied: gast<=0.4.0,>=0.2.1 in c:\\users\\matsa\\appdata\\local\\programs\\python\\python310\\lib\\site-packages (from tensorflow==2.10) (0.4.0)\n",
            "Requirement already satisfied: google-pasta>=0.1.1 in c:\\users\\matsa\\appdata\\local\\programs\\python\\python310\\lib\\site-packages (from tensorflow==2.10) (0.2.0)\n",
            "Requirement already satisfied: h5py>=2.9.0 in c:\\users\\matsa\\appdata\\local\\programs\\python\\python310\\lib\\site-packages (from tensorflow==2.10) (3.9.0)\n",
            "Requirement already satisfied: keras-preprocessing>=1.1.1 in c:\\users\\matsa\\appdata\\local\\programs\\python\\python310\\lib\\site-packages (from tensorflow==2.10) (1.1.2)\n",
            "Requirement already satisfied: libclang>=13.0.0 in c:\\users\\matsa\\appdata\\local\\programs\\python\\python310\\lib\\site-packages (from tensorflow==2.10) (16.0.6)\n",
            "Requirement already satisfied: numpy>=1.20 in c:\\users\\matsa\\appdata\\local\\programs\\python\\python310\\lib\\site-packages (from tensorflow==2.10) (1.23.4)\n",
            "Requirement already satisfied: opt-einsum>=2.3.2 in c:\\users\\matsa\\appdata\\local\\programs\\python\\python310\\lib\\site-packages (from tensorflow==2.10) (3.3.0)\n",
            "Requirement already satisfied: packaging in c:\\users\\matsa\\appdata\\local\\programs\\python\\python310\\lib\\site-packages (from tensorflow==2.10) (23.1)\n",
            "Requirement already satisfied: protobuf<3.20,>=3.9.2 in c:\\users\\matsa\\appdata\\local\\programs\\python\\python310\\lib\\site-packages (from tensorflow==2.10) (3.19.6)\n",
            "Requirement already satisfied: setuptools in c:\\users\\matsa\\appdata\\local\\programs\\python\\python310\\lib\\site-packages (from tensorflow==2.10) (63.2.0)\n",
            "Requirement already satisfied: six>=1.12.0 in c:\\users\\matsa\\appdata\\local\\programs\\python\\python310\\lib\\site-packages (from tensorflow==2.10) (1.16.0)\n",
            "Requirement already satisfied: termcolor>=1.1.0 in c:\\users\\matsa\\appdata\\local\\programs\\python\\python310\\lib\\site-packages (from tensorflow==2.10) (2.3.0)\n",
            "Requirement already satisfied: typing-extensions>=3.6.6 in c:\\users\\matsa\\appdata\\local\\programs\\python\\python310\\lib\\site-packages (from tensorflow==2.10) (4.5.0)\n",
            "Requirement already satisfied: wrapt>=1.11.0 in c:\\users\\matsa\\appdata\\local\\programs\\python\\python310\\lib\\site-packages (from tensorflow==2.10) (1.15.0)\n",
            "Requirement already satisfied: tensorflow-io-gcs-filesystem>=0.23.1 in c:\\users\\matsa\\appdata\\local\\programs\\python\\python310\\lib\\site-packages (from tensorflow==2.10) (0.31.0)\n",
            "Requirement already satisfied: grpcio<2.0,>=1.24.3 in c:\\users\\matsa\\appdata\\local\\programs\\python\\python310\\lib\\site-packages (from tensorflow==2.10) (1.58.0)\n",
            "Requirement already satisfied: tensorboard<2.11,>=2.10 in c:\\users\\matsa\\appdata\\local\\programs\\python\\python310\\lib\\site-packages (from tensorflow==2.10) (2.10.1)\n",
            "Requirement already satisfied: tensorflow-estimator<2.11,>=2.10.0 in c:\\users\\matsa\\appdata\\local\\programs\\python\\python310\\lib\\site-packages (from tensorflow==2.10) (2.10.0)\n",
            "Requirement already satisfied: keras<2.11,>=2.10.0 in c:\\users\\matsa\\appdata\\local\\programs\\python\\python310\\lib\\site-packages (from tensorflow==2.10) (2.10.0)\n",
            "Requirement already satisfied: contourpy>=1.0.1 in c:\\users\\matsa\\appdata\\local\\programs\\python\\python310\\lib\\site-packages (from matplotlib) (1.1.0)\n",
            "Requirement already satisfied: cycler>=0.10 in c:\\users\\matsa\\appdata\\local\\programs\\python\\python310\\lib\\site-packages (from matplotlib) (0.11.0)\n",
            "Requirement already satisfied: fonttools>=4.22.0 in c:\\users\\matsa\\appdata\\local\\programs\\python\\python310\\lib\\site-packages (from matplotlib) (4.42.1)\n",
            "Requirement already satisfied: kiwisolver>=1.0.1 in c:\\users\\matsa\\appdata\\local\\programs\\python\\python310\\lib\\site-packages (from matplotlib) (1.4.5)\n",
            "Requirement already satisfied: pillow>=6.2.0 in c:\\users\\matsa\\appdata\\local\\programs\\python\\python310\\lib\\site-packages (from matplotlib) (10.0.0)\n",
            "Requirement already satisfied: pyparsing>=2.3.1 in c:\\users\\matsa\\appdata\\local\\programs\\python\\python310\\lib\\site-packages (from matplotlib) (3.1.1)\n",
            "Requirement already satisfied: python-dateutil>=2.7 in c:\\users\\matsa\\appdata\\local\\programs\\python\\python310\\lib\\site-packages (from matplotlib) (2.8.2)\n",
            "Requirement already satisfied: wheel<1.0,>=0.23.0 in c:\\users\\matsa\\appdata\\local\\programs\\python\\python310\\lib\\site-packages (from astunparse>=1.6.0->tensorflow==2.10) (0.41.2)\n",
            "Requirement already satisfied: google-auth<3,>=1.6.3 in c:\\users\\matsa\\appdata\\local\\programs\\python\\python310\\lib\\site-packages (from tensorboard<2.11,>=2.10->tensorflow==2.10) (2.23.0)\n",
            "Requirement already satisfied: google-auth-oauthlib<0.5,>=0.4.1 in c:\\users\\matsa\\appdata\\local\\programs\\python\\python310\\lib\\site-packages (from tensorboard<2.11,>=2.10->tensorflow==2.10) (0.4.6)\n",
            "Requirement already satisfied: markdown>=2.6.8 in c:\\users\\matsa\\appdata\\local\\programs\\python\\python310\\lib\\site-packages (from tensorboard<2.11,>=2.10->tensorflow==2.10) (3.4.4)\n",
            "Requirement already satisfied: requests<3,>=2.21.0 in c:\\users\\matsa\\appdata\\local\\programs\\python\\python310\\lib\\site-packages (from tensorboard<2.11,>=2.10->tensorflow==2.10) (2.28.1)\n",
            "Requirement already satisfied: tensorboard-data-server<0.7.0,>=0.6.0 in c:\\users\\matsa\\appdata\\local\\programs\\python\\python310\\lib\\site-packages (from tensorboard<2.11,>=2.10->tensorflow==2.10) (0.6.1)\n",
            "Requirement already satisfied: tensorboard-plugin-wit>=1.6.0 in c:\\users\\matsa\\appdata\\local\\programs\\python\\python310\\lib\\site-packages (from tensorboard<2.11,>=2.10->tensorflow==2.10) (1.8.1)\n",
            "Requirement already satisfied: werkzeug>=1.0.1 in c:\\users\\matsa\\appdata\\local\\programs\\python\\python310\\lib\\site-packages (from tensorboard<2.11,>=2.10->tensorflow==2.10) (2.3.7)\n",
            "Requirement already satisfied: cachetools<6.0,>=2.0.0 in c:\\users\\matsa\\appdata\\local\\programs\\python\\python310\\lib\\site-packages (from google-auth<3,>=1.6.3->tensorboard<2.11,>=2.10->tensorflow==2.10) (5.3.1)\n",
            "Requirement already satisfied: pyasn1-modules>=0.2.1 in c:\\users\\matsa\\appdata\\local\\programs\\python\\python310\\lib\\site-packages (from google-auth<3,>=1.6.3->tensorboard<2.11,>=2.10->tensorflow==2.10) (0.3.0)\n",
            "Requirement already satisfied: rsa<5,>=3.1.4 in c:\\users\\matsa\\appdata\\local\\programs\\python\\python310\\lib\\site-packages (from google-auth<3,>=1.6.3->tensorboard<2.11,>=2.10->tensorflow==2.10) (4.9)\n",
            "Requirement already satisfied: urllib3<2.0 in c:\\users\\matsa\\appdata\\local\\programs\\python\\python310\\lib\\site-packages (from google-auth<3,>=1.6.3->tensorboard<2.11,>=2.10->tensorflow==2.10) (1.26.12)\n",
            "Requirement already satisfied: requests-oauthlib>=0.7.0 in c:\\users\\matsa\\appdata\\local\\programs\\python\\python310\\lib\\site-packages (from google-auth-oauthlib<0.5,>=0.4.1->tensorboard<2.11,>=2.10->tensorflow==2.10) (1.3.1)\n",
            "Requirement already satisfied: charset-normalizer<3,>=2 in c:\\users\\matsa\\appdata\\local\\programs\\python\\python310\\lib\\site-packages (from requests<3,>=2.21.0->tensorboard<2.11,>=2.10->tensorflow==2.10) (2.1.1)\n",
            "Requirement already satisfied: idna<4,>=2.5 in c:\\users\\matsa\\appdata\\local\\programs\\python\\python310\\lib\\site-packages (from requests<3,>=2.21.0->tensorboard<2.11,>=2.10->tensorflow==2.10) (3.4)\n",
            "Requirement already satisfied: certifi>=2017.4.17 in c:\\users\\matsa\\appdata\\local\\programs\\python\\python310\\lib\\site-packages (from requests<3,>=2.21.0->tensorboard<2.11,>=2.10->tensorflow==2.10) (2022.9.24)\n",
            "Requirement already satisfied: MarkupSafe>=2.1.1 in c:\\users\\matsa\\appdata\\local\\programs\\python\\python310\\lib\\site-packages (from werkzeug>=1.0.1->tensorboard<2.11,>=2.10->tensorflow==2.10) (2.1.3)\n",
            "Requirement already satisfied: pyasn1<0.6.0,>=0.4.6 in c:\\users\\matsa\\appdata\\local\\programs\\python\\python310\\lib\\site-packages (from pyasn1-modules>=0.2.1->google-auth<3,>=1.6.3->tensorboard<2.11,>=2.10->tensorflow==2.10) (0.5.0)\n",
            "Requirement already satisfied: oauthlib>=3.0.0 in c:\\users\\matsa\\appdata\\local\\programs\\python\\python310\\lib\\site-packages (from requests-oauthlib>=0.7.0->google-auth-oauthlib<0.5,>=0.4.1->tensorboard<2.11,>=2.10->tensorflow==2.10) (3.2.2)\n",
            "Installing collected packages: tensorflow\n",
            "Successfully installed tensorflow-2.10.0\n"
          ]
        },
        {
          "name": "stderr",
          "output_type": "stream",
          "text": [
            "WARNING: Ignoring invalid distribution -rotobuf (c:\\users\\matsa\\appdata\\local\\programs\\python\\python310\\lib\\site-packages)\n",
            "WARNING: Ignoring invalid distribution -rotobuf (c:\\users\\matsa\\appdata\\local\\programs\\python\\python310\\lib\\site-packages)\n",
            "\n",
            "[notice] A new release of pip is available: 23.2 -> 23.2.1\n",
            "[notice] To update, run: python.exe -m pip install --upgrade pip\n"
          ]
        }
      ],
      "source": [
        "%pip install tensorflow==2.10 opencv-python matplotlib"
      ]
    },
    {
      "cell_type": "code",
      "execution_count": 8,
      "metadata": {},
      "outputs": [],
      "source": [
        "# Standard dependencies\n",
        "import cv2\n",
        "import os\n",
        "import random\n",
        "import shutil\n",
        "import numpy as np # For re-shaping arrays\n",
        "from matplotlib import pyplot as plt # Visualise images\n",
        "\n",
        "# Tensorflow dependencies\n",
        "from tensorflow.python.keras.models import Model\n",
        "from tensorflow.python.keras.layers import Layer, Conv2D, Dense, MaxPooling2D, Input, Flatten, Lambda\n",
        "import tensorflow as tf"
      ]
    },
    {
      "cell_type": "code",
      "execution_count": 2,
      "metadata": {},
      "outputs": [],
      "source": [
        "# To avoid running out of memory, we restrict the GPU memory growth aka\n",
        "# how many resources the model is consuming at any given time\n",
        "gpus = tf.config.experimental.list_physical_devices('GPU')\n",
        "for gpu in gpus:\n",
        "    # Just in case the device we are using has more than one gpu, we are \n",
        "    # making sure to restrict the usage of ALL of them\n",
        "    tf.config.experimental.set_memory_growth(gpu, True)"
      ]
    },
    {
      "cell_type": "code",
      "execution_count": null,
      "metadata": {},
      "outputs": [],
      "source": [
        "gpus # Just to make sure that the GPU device is recognized"
      ]
    },
    {
      "cell_type": "code",
      "execution_count": 10,
      "metadata": {},
      "outputs": [],
      "source": [
        "# Create files that will hold the anchor, positive and negative images:\n",
        "# Anchor: The image we imput\n",
        "# Positive: Images that match the anchor\n",
        "# Negative: Images that are different from the anchor\n",
        "anc_path = os.path.join(\"data\",\"anchor\")\n",
        "pos_path = os.path.join(\"data\",\"positive\")\n",
        "neg_path = os.path.join(\"data\",\"negative\")\n",
        "\n",
        "os.makedirs(anc_path)\n",
        "os.makedirs(pos_path)\n",
        "os.makedirs(neg_path)\n"
      ]
    },
    {
      "cell_type": "code",
      "execution_count": null,
      "metadata": {},
      "outputs": [],
      "source": [
        "# Uncompress the tar file that contains the images in the Wild Dataface\n",
        "!tar -xf lfw.tgz # http://vis-www.cs.umass.edu/lfw/"
      ]
    },
    {
      "cell_type": "code",
      "execution_count": null,
      "metadata": {},
      "outputs": [],
      "source": [
        "# We take the images that we downloaded and place in the negative folder\n",
        "# (these images will be used so that the machine can understand that the\n",
        "# person whose image we are providing isn't the same as any of the ones in\n",
        "# the negative folder)\n",
        "\n",
        "# Go through all the directories in the lfw folder\n",
        "for directory in os.listdir('lfw'):\n",
        "    # Find all the images in said directory\n",
        "    for file in os.listdir(os.path.join('lfw',directory)):\n",
        "        # Replace the path of that image with the path of the negative folder\n",
        "        # (aka place the image in the negative folder)\n",
        "        previous_path = os.path.join('lfw', directory, file)\n",
        "        new_path = os.path.join(neg_path, file)\n",
        "        os.replace(previous_path, new_path)"
      ]
    },
    {
      "cell_type": "code",
      "execution_count": null,
      "metadata": {},
      "outputs": [],
      "source": [
        "# Importing this so that the images we save all have different names\n",
        "import uuid\n",
        "\n",
        "# Now we will get the images we will require for the anchor and positive files\n",
        "\n",
        "# Connect to the webcam\n",
        "capture = cv2.VideoCapture(0) # Keep in mind this number might vary slightly\n",
        "                              # so try out a few other numbers like 1, 2, 3, 4, 5 etc in case there is a problem\n",
        "while (capture.isOpened()):\n",
        "    return_value, frame = capture.read()\n",
        "\n",
        "    # Keeping in mind that the images in the negative folder have a resolution of 250x250\n",
        "    # we need out frames (aka the images we will capture) to be 250x250 as well\n",
        "    frame = frame[120:370, 200:450, :]\n",
        "\n",
        "    # Show the camera feed\n",
        "    cv2.imshow(\"Images\", frame)\n",
        "\n",
        "    # Add image to anchor if 'a' is pressed\n",
        "    if (cv2.waitKey(1) & 0XFF == ord('a')):\n",
        "        # Create the unique name and save the image\n",
        "        name = os.path.join(anc_path, '{}.jpg'.format(uuid.uuid1()))\n",
        "        cv2.imwrite(name, frame)\n",
        "    \n",
        "    # Add image to positive if 'p' is pressed\n",
        "    if (cv2.waitKey(1) & 0XFF == ord('p')):\n",
        "        # Create the unique name and save the image\n",
        "        name = os.path.join(pos_path, '{}.jpg'.format(uuid.uuid1()))\n",
        "        cv2.imwrite(name, frame)\n",
        "\n",
        "    # Break by pressing he 'q' key\n",
        "    if (cv2.waitKey(1) & 0XFF == ord('q')):\n",
        "        break\n",
        "\n",
        "# Release webcam\n",
        "capture.release()\n",
        "# Close the camera feed window\n",
        "cv2.destroyAllWindows()"
      ]
    },
    {
      "cell_type": "code",
      "execution_count": 2,
      "metadata": {},
      "outputs": [],
      "source": [
        "# Get 300 image paths from each image set\n",
        "anchor = tf.data.Dataset.list_files(anc_path+'\\*.jpg').take(300) # TO_DO Change to path names\n",
        "positive = tf.data.Dataset.list_files(pos_path+'\\*.jpg').take(300)\n",
        "negative = tf.data.Dataset.list_files(neg_path+'\\*.jpg').take(300)"
      ]
    },
    {
      "cell_type": "code",
      "execution_count": 3,
      "metadata": {},
      "outputs": [],
      "source": [
        "dir_test = anchor.as_numpy_iterator()"
      ]
    },
    {
      "cell_type": "code",
      "execution_count": 4,
      "metadata": {},
      "outputs": [
        {
          "name": "stdout",
          "output_type": "stream",
          "text": [
            "b'data\\\\anchor\\\\2d257bc5-547c-11ee-a668-38d57a328974.jpg'\n"
          ]
        }
      ],
      "source": [
        "print(dir_test.next())"
      ]
    },
    {
      "cell_type": "code",
      "execution_count": 5,
      "metadata": {},
      "outputs": [],
      "source": [
        "# Scale and resize the images\n",
        "def preprocess(file_path):\n",
        "    # Get byte code of image (the file path) and then decode it\n",
        "    byte_img = tf.io.read_file(file_path)\n",
        "    img = tf.io.decode_jpeg(byte_img)\n",
        "\n",
        "    img = tf.image.resize(img, (105, 105)) # Resizing out image according to the \"Siamese Neural Networks\"\n",
        "                                           # research paper\n",
        "    img = img / 255.0 # Scale every pixel value to 0-1 => scale the image\n",
        "    return img"
      ]
    },
    {
      "cell_type": "code",
      "execution_count": 6,
      "metadata": {},
      "outputs": [],
      "source": [
        "img = preprocess('data\\\\anchor\\\\47c0c4c7-547c-11ee-b25f-38d57a328974.jpg')"
      ]
    },
    {
      "cell_type": "code",
      "execution_count": 7,
      "metadata": {},
      "outputs": [
        {
          "data": {
            "text/plain": [
              "1.0"
            ]
          },
          "execution_count": 7,
          "metadata": {},
          "output_type": "execute_result"
        }
      ],
      "source": [
        "img.numpy().max() "
      ]
    },
    {
      "cell_type": "code",
      "execution_count": 8,
      "metadata": {},
      "outputs": [],
      "source": [
        "# Depending on the inputs (anchor, positive) or (anchor, negative) we will be\n",
        "# getting a result ( a label ) as follows:\n",
        "# (anchor, positive) => 1\n",
        "# (anchor, negative) => 0\n",
        "\n",
        "positives = tf.data.Dataset.zip((anchor, positive, tf.data.Dataset.from_tensor_slices(tf.ones(len(anchor)))))\n",
        "negatives = tf.data.Dataset.zip((anchor, negative, tf.data.Dataset.from_tensor_slices(tf.zeros(len(anchor)))))\n",
        "data = positives.concatenate(negatives) # Combine the positives and negatives"
      ]
    },
    {
      "cell_type": "code",
      "execution_count": 7,
      "metadata": {},
      "outputs": [],
      "source": [
        "samples = data.as_numpy_iterator()"
      ]
    },
    {
      "cell_type": "code",
      "execution_count": 8,
      "metadata": {},
      "outputs": [],
      "source": [
        "ex = samples.next()\n"
      ]
    },
    {
      "cell_type": "code",
      "execution_count": 9,
      "metadata": {},
      "outputs": [
        {
          "data": {
            "text/plain": [
              "(b'data\\\\anchor\\\\4d3f92d9-547c-11ee-801d-38d57a328974.jpg',\n",
              " b'data\\\\positive\\\\6394933b-547c-11ee-bfa9-38d57a328974.jpg',\n",
              " 1.0)"
            ]
          },
          "execution_count": 9,
          "metadata": {},
          "output_type": "execute_result"
        }
      ],
      "source": [
        "ex"
      ]
    },
    {
      "cell_type": "code",
      "execution_count": 9,
      "metadata": {},
      "outputs": [],
      "source": [
        "# Create function to scale and resize both images we pass\n",
        "def twin_preprocess(anc, verification_image, label):\n",
        "    return (preprocess(anc), preprocess(verification_image), label)\n"
      ]
    },
    {
      "cell_type": "code",
      "execution_count": 11,
      "metadata": {},
      "outputs": [],
      "source": [
        "res = twin_preprocess(*ex)"
      ]
    },
    {
      "cell_type": "code",
      "execution_count": null,
      "metadata": {},
      "outputs": [],
      "source": [
        "plt.imshow(res[1])"
      ]
    },
    {
      "cell_type": "code",
      "execution_count": 13,
      "metadata": {},
      "outputs": [
        {
          "data": {
            "text/plain": [
              "1.0"
            ]
          },
          "execution_count": 13,
          "metadata": {},
          "output_type": "execute_result"
        }
      ],
      "source": [
        "res[2]"
      ]
    },
    {
      "cell_type": "code",
      "execution_count": 10,
      "metadata": {},
      "outputs": [],
      "source": [
        "# Dataloader pipeline\n",
        "data = data.map(twin_preprocess)\n",
        "data = data.cache()\n",
        "data = data.shuffle(buffer_size=1024) # Simply mix the positive and negative images"
      ]
    },
    {
      "cell_type": "code",
      "execution_count": 11,
      "metadata": {},
      "outputs": [],
      "source": [
        "# Training partition\n",
        "train_data = data.take((round(len(data)*0.7))) # Get 70% of the samples\n",
        "train_data = train_data.batch(16) # Pass 16 images each time\n",
        "train_data = train_data.prefetch(8) # Preprocess the next image beforehand\n"
      ]
    },
    {
      "cell_type": "code",
      "execution_count": 12,
      "metadata": {},
      "outputs": [],
      "source": [
        "# Testing Partition\n",
        "test_data = data.skip((round(len(data)*0.7)))\n",
        "test_data = test_data.take((round(len(data)*0.3)))\n",
        "test_data = test_data.batch(16)\n",
        "test_data = test_data.prefetch(8)"
      ]
    },
    {
      "cell_type": "code",
      "execution_count": 13,
      "metadata": {},
      "outputs": [],
      "source": [
        "# Embedding layer\n",
        "\n",
        "def make_embedding():\n",
        "    # Input\n",
        "    inp = Input(shape=(105, 105, 3), name=\"input_image\")\n",
        "\n",
        "    # First block\n",
        "    # Convolusion layer\n",
        "    c1 = Conv2D(64, (10, 10), activation=\"relu\")(inp)\n",
        "    # Max pooling layer\n",
        "    m1  = MaxPooling2D(64, (2, 2), padding=\"same\")(c1)\n",
        "\n",
        "    # Second block\n",
        "    c2 = Conv2D(128, (7, 7), activation=\"relu\")(m1)\n",
        "    m2 = MaxPooling2D(64, (2, 2), padding=\"same\")(c2)\n",
        "\n",
        "    # Third block\n",
        "    c3 = Conv2D(128, (4, 4), activation=\"relu\")(m2)\n",
        "    m3 = MaxPooling2D(64, (2, 2), padding=\"same\")(c3)\n",
        "\n",
        "    # Final embedding block\n",
        "    c4 = Conv2D(256, (4, 4), activation=\"relu\")(m3)\n",
        "    f1 = Flatten()(c4)\n",
        "    d1 = Dense(4096, activation=\"sigmoid\")(f1)\n",
        "\n",
        "    return Model(inputs=[inp], outputs=[d1], name=\"embedding\")"
      ]
    },
    {
      "cell_type": "code",
      "execution_count": 16,
      "metadata": {},
      "outputs": [],
      "source": [
        "embedding = make_embedding()"
      ]
    },
    {
      "cell_type": "code",
      "execution_count": 17,
      "metadata": {},
      "outputs": [
        {
          "name": "stdout",
          "output_type": "stream",
          "text": [
            "Model: \"embedding\"\n",
            "_________________________________________________________________\n",
            "Layer (type)                 Output Shape              Param #   \n",
            "=================================================================\n",
            "input_image (InputLayer)     [(None, 105, 105, 3)]     0         \n",
            "_________________________________________________________________\n",
            "conv2d (Conv2D)              (None, 96, 96, 64)        19264     \n",
            "_________________________________________________________________\n",
            "max_pooling2d (MaxPooling2D) (None, 48, 48, 64)        0         \n",
            "_________________________________________________________________\n",
            "conv2d_1 (Conv2D)            (None, 42, 42, 128)       401536    \n",
            "_________________________________________________________________\n",
            "max_pooling2d_1 (MaxPooling2 (None, 21, 21, 128)       0         \n",
            "_________________________________________________________________\n",
            "conv2d_2 (Conv2D)            (None, 18, 18, 128)       262272    \n",
            "_________________________________________________________________\n",
            "max_pooling2d_2 (MaxPooling2 (None, 9, 9, 128)         0         \n",
            "_________________________________________________________________\n",
            "conv2d_3 (Conv2D)            (None, 6, 6, 256)         524544    \n",
            "_________________________________________________________________\n",
            "flatten (Flatten)            (None, 9216)              0         \n",
            "_________________________________________________________________\n",
            "dense (Dense)                (None, 4096)              37752832  \n",
            "=================================================================\n",
            "Total params: 38,960,448\n",
            "Trainable params: 38,960,448\n",
            "Non-trainable params: 0\n",
            "_________________________________________________________________\n"
          ]
        }
      ],
      "source": [
        "embedding.summary()"
      ]
    },
    {
      "cell_type": "code",
      "execution_count": 19,
      "metadata": {},
      "outputs": [],
      "source": [
        "# Siamese model\n",
        "def make_siamese_model():\n",
        "    # Anchor input image\n",
        "    input_image = Input(name=\"input_img\", shape=(105, 105, 3))\n",
        "    # Positive / Negative input image\n",
        "    validation_image = Input(name=\"validation_img\", shape=(105, 105, 3))\n",
        "\n",
        "    # Calculate L1 distance between the encoded vectors\n",
        "    distances = Lambda(lambda x: tf.abs(x[0] - x[1]), name='l1_distance')([embedding(input_image), embedding(validation_image)])\n",
        "\n",
        "    # Classification layer\n",
        "    classifier = Dense(1, activation=\"sigmoid\")(distances)\n",
        "\n",
        "    return Model(inputs=[input_image, validation_image], outputs=classifier, name=\"Siamese_Network\")"
      ]
    },
    {
      "cell_type": "code",
      "execution_count": 20,
      "metadata": {},
      "outputs": [],
      "source": [
        "siamese_model = make_siamese_model()"
      ]
    },
    {
      "cell_type": "code",
      "execution_count": 21,
      "metadata": {},
      "outputs": [
        {
          "name": "stdout",
          "output_type": "stream",
          "text": [
            "Model: \"Siamese_Network\"\n",
            "__________________________________________________________________________________________________\n",
            "Layer (type)                    Output Shape         Param #     Connected to                     \n",
            "==================================================================================================\n",
            "input_img (InputLayer)          [(None, 105, 105, 3) 0                                            \n",
            "__________________________________________________________________________________________________\n",
            "validation_img (InputLayer)     [(None, 105, 105, 3) 0                                            \n",
            "__________________________________________________________________________________________________\n",
            "embedding (Functional)          (None, 4096)         38960448    input_img[0][0]                  \n",
            "                                                                 validation_img[0][0]             \n",
            "__________________________________________________________________________________________________\n",
            "l1_distance (Lambda)            (None, 4096)         0           embedding[2][0]                  \n",
            "                                                                 embedding[3][0]                  \n",
            "__________________________________________________________________________________________________\n",
            "dense_1 (Dense)                 (None, 1)            4097        l1_distance[0][0]                \n",
            "==================================================================================================\n",
            "Total params: 38,964,545\n",
            "Trainable params: 38,964,545\n",
            "Non-trainable params: 0\n",
            "__________________________________________________________________________________________________\n"
          ]
        }
      ],
      "source": [
        "siamese_model.summary()"
      ]
    },
    {
      "cell_type": "code",
      "execution_count": 22,
      "metadata": {},
      "outputs": [
        {
          "name": "stdout",
          "output_type": "stream",
          "text": [
            "Model: \"Siamese_Network\"\n",
            "__________________________________________________________________________________________________\n",
            "Layer (type)                    Output Shape         Param #     Connected to                     \n",
            "==================================================================================================\n",
            "input_img (InputLayer)          [(None, 105, 105, 3) 0                                            \n",
            "__________________________________________________________________________________________________\n",
            "validation_img (InputLayer)     [(None, 105, 105, 3) 0                                            \n",
            "__________________________________________________________________________________________________\n",
            "embedding (Functional)          (None, 4096)         38960448    input_img[0][0]                  \n",
            "                                                                 validation_img[0][0]             \n",
            "__________________________________________________________________________________________________\n",
            "l1_distance (Lambda)            (None, 4096)         0           embedding[2][0]                  \n",
            "                                                                 embedding[3][0]                  \n",
            "__________________________________________________________________________________________________\n",
            "dense_1 (Dense)                 (None, 1)            4097        l1_distance[0][0]                \n",
            "==================================================================================================\n",
            "Total params: 38,964,545\n",
            "Trainable params: 38,964,545\n",
            "Non-trainable params: 0\n",
            "__________________________________________________________________________________________________\n"
          ]
        }
      ],
      "source": [
        "# Compile the model\n",
        "siamese_model.compile(optimizer='adam', loss='binary_crossentropy', metrics=['accuracy'])\n",
        "\n",
        "# Print model summary\n",
        "siamese_model.summary()\n"
      ]
    },
    {
      "cell_type": "code",
      "execution_count": 23,
      "metadata": {},
      "outputs": [],
      "source": [
        "# Setup loss function\n",
        "binary_cross_loss = tf.losses.BinaryCrossentropy()"
      ]
    },
    {
      "cell_type": "code",
      "execution_count": 24,
      "metadata": {},
      "outputs": [],
      "source": [
        "# Setup optimizer\n",
        "opt = tf.keras.optimizers.Adam(1e-4) # 1e - 4 = 0.0001"
      ]
    },
    {
      "cell_type": "code",
      "execution_count": 5,
      "metadata": {},
      "outputs": [],
      "source": [
        "# Checkpoints\n",
        "checkpoint_dir = \"./training_checkpoints\"\n",
        "os.mkdir(checkpoint_dir)\n",
        "checkpoint_prefix = os.path.join(checkpoint_dir, 'ckpt')\n",
        "checkpoint = tf.train.Checkpoint(opt=opt, siamese_model=siamese_model)"
      ]
    },
    {
      "cell_type": "code",
      "execution_count": 26,
      "metadata": {},
      "outputs": [],
      "source": [
        "test_batch = train_data.as_numpy_iterator()"
      ]
    },
    {
      "cell_type": "code",
      "execution_count": 27,
      "metadata": {},
      "outputs": [],
      "source": [
        "batch_1 =test_batch.next()"
      ]
    },
    {
      "cell_type": "code",
      "execution_count": 28,
      "metadata": {},
      "outputs": [],
      "source": [
        "x = batch_1[:2]\n",
        "y = batch_1[2]"
      ]
    },
    {
      "cell_type": "code",
      "execution_count": 29,
      "metadata": {},
      "outputs": [
        {
          "data": {
            "text/plain": [
              "array([1., 1., 0., 0., 1., 1., 1., 1., 0., 0., 0., 1., 1., 1., 0., 0.],\n",
              "      dtype=float32)"
            ]
          },
          "execution_count": 29,
          "metadata": {},
          "output_type": "execute_result"
        }
      ],
      "source": [
        "y"
      ]
    },
    {
      "cell_type": "code",
      "execution_count": 34,
      "metadata": {},
      "outputs": [
        {
          "data": {
            "text/plain": [
              "(array([[[[0.99607843, 0.99607843, 0.99607843],\n",
              "          [0.99607843, 0.99607843, 0.99607843],\n",
              "          [0.99607843, 0.99607843, 0.99607843],\n",
              "          ...,\n",
              "          [0.9873016 , 0.99122316, 0.9716153 ],\n",
              "          [0.98403364, 0.9879552 , 0.9683474 ],\n",
              "          [0.99607843, 1.        , 0.9764706 ]],\n",
              " \n",
              "         [[0.99607843, 0.99607843, 0.99607843],\n",
              "          [0.99607843, 0.99607843, 0.99607843],\n",
              "          [0.99607843, 0.99607843, 0.99607843],\n",
              "          ...,\n",
              "          [0.99203014, 0.9959517 , 0.97634387],\n",
              "          [0.9795718 , 0.9834934 , 0.96388555],\n",
              "          [0.99607843, 1.        , 0.9764706 ]],\n",
              " \n",
              "         [[0.99607843, 0.99607843, 0.99607843],\n",
              "          [0.99607843, 0.99607843, 0.99607843],\n",
              "          [0.99607843, 0.99607843, 0.99607843],\n",
              "          ...,\n",
              "          [0.99510694, 0.9990285 , 0.97942066],\n",
              "          [0.9538749 , 0.95779645, 0.9381886 ],\n",
              "          [0.99215686, 0.99607843, 0.972549  ]],\n",
              " \n",
              "         ...,\n",
              " \n",
              "         [[0.71547735, 0.66057533, 0.66057533],\n",
              "          [0.6621249 , 0.6069161 , 0.60706955],\n",
              "          [0.63195056, 0.57114846, 0.57232445],\n",
              "          ...,\n",
              "          [0.25592896, 0.29299712, 0.34649855],\n",
              "          [0.27098167, 0.31225824, 0.36908764],\n",
              "          [0.28891554, 0.33065227, 0.39162335]],\n",
              " \n",
              "         [[0.7097172 , 0.64753234, 0.6511738 ],\n",
              "          [0.66946775, 0.6072428 , 0.6106442 ],\n",
              "          [0.6265507 , 0.5655796 , 0.56025743],\n",
              "          ...,\n",
              "          [0.2647658 , 0.30053347, 0.34640515],\n",
              "          [0.2544218 , 0.3009004 , 0.34853944],\n",
              "          [0.27730426, 0.32436308, 0.37982523]],\n",
              " \n",
              "         [[0.69803923, 0.62352943, 0.6313726 ],\n",
              "          [0.6500534 , 0.5873083 , 0.59094965],\n",
              "          [0.6158842 , 0.55557775, 0.5482615 ],\n",
              "          ...,\n",
              "          [0.40836778, 0.43417144, 0.472838  ],\n",
              "          [0.30926368, 0.3457516 , 0.3862011 ],\n",
              "          [0.2966387 , 0.33585438, 0.37507007]]],\n",
              " \n",
              " \n",
              "        [[[0.99607843, 0.99607843, 0.99607843],\n",
              "          [0.99607843, 0.99607843, 0.99607843],\n",
              "          [0.99607843, 0.99607843, 0.99607843],\n",
              "          ...,\n",
              "          [0.99149215, 0.9954137 , 0.9718843 ],\n",
              "          [0.95967716, 0.9635987 , 0.9400693 ],\n",
              "          [0.99215686, 0.99607843, 0.972549  ]],\n",
              " \n",
              "         [[0.99607843, 0.99607843, 0.99607843],\n",
              "          [0.99607843, 0.99607843, 0.99607843],\n",
              "          [0.99607843, 0.99607843, 0.99607843],\n",
              "          ...,\n",
              "          [0.9943711 , 0.99629855, 0.9747633 ],\n",
              "          [0.9594037 , 0.96332526, 0.93979585],\n",
              "          [0.99579835, 0.9997199 , 0.9761905 ]],\n",
              " \n",
              "         [[0.99607843, 0.99607843, 0.99607843],\n",
              "          [0.99607843, 0.99607843, 0.99607843],\n",
              "          [0.99607843, 0.99607843, 0.99607843],\n",
              "          ...,\n",
              "          [0.9944734 , 0.9974234 , 0.97486556],\n",
              "          [0.9355142 , 0.9394358 , 0.91590637],\n",
              "          [0.99215686, 0.99607843, 0.972549  ]],\n",
              " \n",
              "         ...,\n",
              " \n",
              "         [[0.6361232 , 0.57729965, 0.591492  ],\n",
              "          [0.65735614, 0.6021741 , 0.5933972 ],\n",
              "          [0.6482548 , 0.5858832 , 0.55665815],\n",
              "          ...,\n",
              "          [0.3208952 , 0.35936388, 0.4121183 ],\n",
              "          [0.41368562, 0.44885966, 0.49806604],\n",
              "          [0.42870933, 0.45416614, 0.49271712]],\n",
              " \n",
              "         [[0.6164399 , 0.55761635, 0.56955445],\n",
              "          [0.617627  , 0.5624449 , 0.55012006],\n",
              "          [0.62440306, 0.564179  , 0.5306589 ],\n",
              "          ...,\n",
              "          [0.5674806 , 0.57983226, 0.60868376],\n",
              "          [0.4808524 , 0.49295723, 0.52150863],\n",
              "          [0.45266113, 0.4686275 , 0.48123252]],\n",
              " \n",
              "         [[0.5897292 , 0.53361344, 0.5372549 ],\n",
              "          [0.6047552 , 0.5532146 , 0.5294051 ],\n",
              "          [0.64369744, 0.58347344, 0.5450758 ],\n",
              "          ...,\n",
              "          [0.8223156 , 0.80149394, 0.816082  ],\n",
              "          [0.8072962 , 0.7962718 , 0.8060624 ],\n",
              "          [0.7995354 , 0.7945823 , 0.792348  ]]],\n",
              " \n",
              " \n",
              "        [[[0.99607843, 0.99607843, 0.99607843],\n",
              "          [0.99607843, 0.99607843, 0.99607843],\n",
              "          [0.99607843, 0.99607843, 0.99607843],\n",
              "          ...,\n",
              "          [0.9918657 , 0.99578726, 0.97225785],\n",
              "          [0.9520075 , 0.95592904, 0.93239963],\n",
              "          [0.9882353 , 0.99215686, 0.96862745]],\n",
              " \n",
              "         [[0.99607843, 0.99607843, 0.99607843],\n",
              "          [0.99607843, 0.99607843, 0.99607843],\n",
              "          [0.99607843, 0.99607843, 0.99607843],\n",
              "          ...,\n",
              "          [0.99225026, 0.99617183, 0.97276914],\n",
              "          [0.94957983, 0.9535014 , 0.929972  ],\n",
              "          [0.9882353 , 0.99215686, 0.96862745]],\n",
              " \n",
              "         [[0.99607843, 0.99607843, 0.99607843],\n",
              "          [0.99607843, 0.99607843, 0.99607843],\n",
              "          [0.99607843, 0.99607843, 0.99607843],\n",
              "          ...,\n",
              "          [0.9886088 , 0.99253035, 0.9717465 ],\n",
              "          [0.95322126, 0.95714283, 0.9353875 ],\n",
              "          [0.9906741 , 0.99459565, 0.97106624]],\n",
              " \n",
              "         ...,\n",
              " \n",
              "         [[0.63297087, 0.58591205, 0.5937552 ],\n",
              "          [0.64481115, 0.5896291 , 0.58514726],\n",
              "          [0.656676  , 0.5943044 , 0.56507933],\n",
              "          ...,\n",
              "          [0.3352208 , 0.36052427, 0.41897428],\n",
              "          [0.38484737, 0.41071102, 0.46888092],\n",
              "          [0.44747674, 0.46671107, 0.51376987]],\n",
              " \n",
              "         [[0.60296786, 0.55590904, 0.5583367 ],\n",
              "          [0.6072428 , 0.5520608 , 0.53973585],\n",
              "          [0.6419234 , 0.5795518 , 0.55032676],\n",
              "          ...,\n",
              "          [0.7237166 , 0.72847855, 0.749767  ],\n",
              "          [0.57937205, 0.59141684, 0.6127053 ],\n",
              "          [0.49258384, 0.48932916, 0.51453924]],\n",
              " \n",
              "         [[0.57441866, 0.52735984, 0.52735984],\n",
              "          [0.5822529 , 0.5270708 , 0.5147459 ],\n",
              "          [0.65094703, 0.5896247 , 0.55665374],\n",
              "          ...,\n",
              "          [0.8125828 , 0.7957983 , 0.80026895],\n",
              "          [0.8042884 , 0.7940176 , 0.80296785],\n",
              "          [0.82595706, 0.79878616, 0.8054155 ]]],\n",
              " \n",
              " \n",
              "        ...,\n",
              " \n",
              " \n",
              "        [[[0.99607843, 0.99607843, 0.99607843],\n",
              "          [0.99607843, 0.99607843, 0.99607843],\n",
              "          [0.99607843, 0.99607843, 0.99607843],\n",
              "          ...,\n",
              "          [0.9955182 , 0.9955182 , 0.9955182 ],\n",
              "          [0.9873016 , 0.9873016 , 0.9873016 ],\n",
              "          [0.99607843, 0.99607843, 0.99607843]],\n",
              " \n",
              "         [[0.99607843, 0.99607843, 0.99607843],\n",
              "          [0.99607843, 0.99607843, 0.99607843],\n",
              "          [0.99607843, 0.99607843, 0.99607843],\n",
              "          ...,\n",
              "          [0.9960517 , 0.9960517 , 0.9960517 ],\n",
              "          [0.98711485, 0.98711485, 0.98711485],\n",
              "          [0.99607843, 0.99607843, 0.99607843]],\n",
              " \n",
              "         [[0.99607843, 0.99607843, 0.99607843],\n",
              "          [0.99607843, 0.99607843, 0.99607843],\n",
              "          [0.99607843, 0.99607843, 0.99607843],\n",
              "          ...,\n",
              "          [0.9937264 , 0.9937264 , 0.9937264 ],\n",
              "          [0.96433234, 0.96433234, 0.96433234],\n",
              "          [0.99607843, 0.99607843, 0.99607843]],\n",
              " \n",
              "         ...,\n",
              " \n",
              "         [[0.7092659 , 0.66612864, 0.68965805],\n",
              "          [0.6881085 , 0.63600767, 0.66317856],\n",
              "          [0.7034169 , 0.6335756 , 0.6402427 ],\n",
              "          ...,\n",
              "          [0.3224846 , 0.36069325, 0.42089733],\n",
              "          [0.4127584 , 0.44475788, 0.50522876],\n",
              "          [0.4416477 , 0.47356936, 0.518574  ]],\n",
              " \n",
              "         [[0.6754368 , 0.6286581 , 0.64490455],\n",
              "          [0.66752696, 0.60842335, 0.62747097],\n",
              "          [0.6788048 , 0.602521  , 0.60859007],\n",
              "          ...,\n",
              "          [0.3135655 , 0.35418168, 0.41552627],\n",
              "          [0.3671669 , 0.40246102, 0.4686075 ],\n",
              "          [0.43739498, 0.46876752, 0.5197479 ]],\n",
              " \n",
              "         [[0.6703081 , 0.6232493 , 0.63893557],\n",
              "          [0.6543351 , 0.5943911 , 0.6114646 ],\n",
              "          [0.66385436, 0.58468723, 0.59120095],\n",
              "          ...,\n",
              "          [0.32938957, 0.35861456, 0.4160376 ],\n",
              "          [0.34573165, 0.37318262, 0.43592772],\n",
              "          [0.41391224, 0.43744165, 0.4923436 ]]],\n",
              " \n",
              " \n",
              "        [[[0.99607843, 0.99607843, 0.99607843],\n",
              "          [0.99607843, 0.99607843, 0.99607843],\n",
              "          [0.99607843, 0.99607843, 0.99607843],\n",
              "          ...,\n",
              "          [0.99253035, 0.9964519 , 0.9729225 ],\n",
              "          [0.94780576, 0.95172733, 0.9281979 ],\n",
              "          [0.9882353 , 0.99215686, 0.96862745]],\n",
              " \n",
              "         [[0.99607843, 0.99607843, 0.99607843],\n",
              "          [0.99607843, 0.99607843, 0.99607843],\n",
              "          [0.99607843, 0.99607843, 0.99607843],\n",
              "          ...,\n",
              "          [0.9926571 , 0.9965787 , 0.9730493 ],\n",
              "          [0.94481796, 0.9487395 , 0.9252101 ],\n",
              "          [0.99215686, 0.99607843, 0.972549  ]],\n",
              " \n",
              "         [[0.99607843, 0.99607843, 0.99607843],\n",
              "          [0.99607843, 0.99607843, 0.99607843],\n",
              "          [0.99607843, 0.99607843, 0.99607843],\n",
              "          ...,\n",
              "          [0.9943044 , 0.998226  , 0.9746966 ],\n",
              "          [0.93196607, 0.93588763, 0.9123582 ],\n",
              "          [0.9939309 , 0.99785244, 0.97432303]],\n",
              " \n",
              "         ...,\n",
              " \n",
              "         [[0.65920806, 0.6178448 , 0.6468008 ],\n",
              "          [0.65987056, 0.61445904, 0.63343996],\n",
              "          [0.6667579 , 0.61067986, 0.6171224 ],\n",
              "          ...,\n",
              "          [0.3003358 , 0.33880445, 0.38703933],\n",
              "          [0.37603047, 0.40366817, 0.44867283],\n",
              "          [0.4136365 , 0.43944016, 0.47810674]],\n",
              " \n",
              "         [[0.6502201 , 0.60344136, 0.6193011 ],\n",
              "          [0.6297118 , 0.5818127 , 0.5899359 ],\n",
              "          [0.6416699 , 0.58321995, 0.58321995],\n",
              "          ...,\n",
              "          [0.27294928, 0.31303194, 0.3699014 ],\n",
              "          [0.32803127, 0.36668673, 0.41402566],\n",
              "          [0.39603847, 0.42693752, 0.47521016]],\n",
              " \n",
              "         [[0.6412676 , 0.5824441 , 0.5942088 ],\n",
              "          [0.61811393, 0.563212  , 0.563212  ],\n",
              "          [0.61858076, 0.5601307 , 0.55798316],\n",
              "          ...,\n",
              "          [0.2631075 , 0.31623545, 0.3725379 ],\n",
              "          [0.28888226, 0.33875552, 0.39225027],\n",
              "          [0.34089637, 0.3879552 , 0.44285715]]],\n",
              " \n",
              " \n",
              "        [[[0.99607843, 0.99607843, 0.99607843],\n",
              "          [0.99607843, 0.99607843, 0.99607843],\n",
              "          [0.99607843, 0.99607843, 0.99607843],\n",
              "          ...,\n",
              "          [0.9898338 , 0.99375534, 0.97022593],\n",
              "          [0.9378151 , 0.9417367 , 0.9182073 ],\n",
              "          [0.990943  , 0.9948646 , 0.9713352 ]],\n",
              " \n",
              "         [[0.99607843, 0.99607843, 0.99607843],\n",
              "          [0.99607843, 0.99607843, 0.99607843],\n",
              "          [0.99607843, 0.99607843, 0.99607843],\n",
              "          ...,\n",
              "          [0.99038285, 0.9943044 , 0.970775  ],\n",
              "          [0.9302321 , 0.9341537 , 0.91062427],\n",
              "          [0.99243695, 0.9963585 , 0.9728291 ]],\n",
              " \n",
              "         [[0.99607843, 0.99607843, 0.99607843],\n",
              "          [0.99607843, 0.99607843, 0.99607843],\n",
              "          [0.99607843, 0.99607843, 0.99607843],\n",
              "          ...,\n",
              "          [0.99118537, 0.99510694, 0.9715775 ],\n",
              "          [0.929972  , 0.93389356, 0.91036415],\n",
              "          [0.99215686, 0.99607843, 0.972549  ]],\n",
              " \n",
              "         ...,\n",
              " \n",
              "         [[0.68563646, 0.65511537, 0.6745964 ],\n",
              "          [0.66836065, 0.62851804, 0.642557  ],\n",
              "          [0.64745224, 0.5968454 , 0.6011404 ],\n",
              "          ...,\n",
              "          [0.3344183 , 0.3703104 , 0.4097306 ],\n",
              "          [0.4444512 , 0.46891436, 0.49714568],\n",
              "          [0.52921355, 0.54582244, 0.5621845 ]],\n",
              " \n",
              "         [[0.66387224, 0.6170935 , 0.6279245 ],\n",
              "          [0.6363745 , 0.5887955 , 0.5974189 ],\n",
              "          [0.6397759 , 0.5813259 , 0.5813259 ],\n",
              "          ...,\n",
              "          [0.29237032, 0.33457384, 0.38178605],\n",
              "          [0.37665063, 0.41166466, 0.44751897],\n",
              "          [0.3899159 , 0.4168067 , 0.44519138]],\n",
              " \n",
              "         [[0.65256995, 0.5937464 , 0.6055111 ],\n",
              "          [0.631746  , 0.5732026 , 0.58412695],\n",
              "          [0.60701394, 0.5485639 , 0.5478991 ],\n",
              "          ...,\n",
              "          [0.28094134, 0.3309991 , 0.38577434],\n",
              "          [0.3421036 , 0.3818795 , 0.42911172],\n",
              "          [0.43875328, 0.47096393, 0.51242495]]]], dtype=float32),\n",
              " array([[[[0.99607843, 0.99607843, 0.99607843],\n",
              "          [0.99607843, 0.99607843, 0.99607843],\n",
              "          [0.99607843, 0.99607843, 0.99607843],\n",
              "          ...,\n",
              "          [0.99215686, 0.9939309 , 0.9661064 ],\n",
              "          [0.9305389 , 0.9305389 , 0.89916635],\n",
              "          [0.990943  , 0.990943  , 0.95172733]],\n",
              " \n",
              "         [[0.99607843, 0.99607843, 0.99607843],\n",
              "          [0.99607843, 0.99607843, 0.99607843],\n",
              "          [0.99607843, 0.99607843, 0.99607843],\n",
              "          ...,\n",
              "          [0.99408424, 0.9980058 , 0.97018135],\n",
              "          [0.92212886, 0.9260504 , 0.8946779 ],\n",
              "          [0.99607843, 0.99607843, 0.95686275]],\n",
              " \n",
              "         [[0.99607843, 0.99607843, 0.99607843],\n",
              "          [0.99607843, 0.99607843, 0.99607843],\n",
              "          [0.99607843, 0.99607843, 0.99607843],\n",
              "          ...,\n",
              "          [0.99215686, 0.99607843, 0.9682539 ],\n",
              "          [0.9257703 , 0.92969185, 0.8983193 ],\n",
              "          [0.9943044 , 0.99785244, 0.95686275]],\n",
              " \n",
              "         ...,\n",
              " \n",
              "         [[0.30397713, 0.3192899 , 0.38653895],\n",
              "          [0.48889565, 0.49571162, 0.5417767 ],\n",
              "          [0.7693364 , 0.7561711 , 0.77303344],\n",
              "          ...,\n",
              "          [0.5536572 , 0.5650484 , 0.5611268 ],\n",
              "          [0.9920703 , 0.99397105, 0.98625463],\n",
              "          [0.99253035, 0.998226  , 0.9821662 ]],\n",
              " \n",
              "         [[0.76980865, 0.7622456 , 0.8062232 ],\n",
              "          [0.8012808 , 0.78251326, 0.809404  ],\n",
              "          [0.7696613 , 0.73333335, 0.73840874],\n",
              "          ...,\n",
              "          [0.79111683, 0.78747535, 0.7796322 ],\n",
              "          [0.9217488 , 0.90770316, 0.8959585 ],\n",
              "          [0.9976591 , 0.9863679 , 0.97310925]],\n",
              " \n",
              "         [[0.7710573 , 0.74444443, 0.77021915],\n",
              "          [0.71846074, 0.68271303, 0.69175005],\n",
              "          [0.67036813, 0.62410074, 0.6197723 ],\n",
              "          ...,\n",
              "          [0.82202435, 0.7943266 , 0.7852586 ],\n",
              "          [0.83612114, 0.8053288 , 0.7936508 ],\n",
              "          [0.8290427 , 0.8001845 , 0.7875817 ]]],\n",
              " \n",
              " \n",
              "        [[[0.34901962, 0.3200747 , 0.2286648 ],\n",
              "          [0.34180337, 0.31296518, 0.23004535],\n",
              "          [0.3550887 , 0.35543996, 0.27076387],\n",
              "          ...,\n",
              "          [0.48673022, 0.74163216, 0.75377035],\n",
              "          [0.48859546, 0.7350874 , 0.7717954 ],\n",
              "          [0.4787115 , 0.7140056 , 0.75714284]],\n",
              " \n",
              "         [[0.40271443, 0.3562225 , 0.25116715],\n",
              "          [0.36668667, 0.3240696 , 0.2364946 ],\n",
              "          [0.3210351 , 0.30989063, 0.21963452],\n",
              "          ...,\n",
              "          [0.4797319 , 0.7298719 , 0.7344472 ],\n",
              "          [0.52495   , 0.76130456, 0.7910565 ],\n",
              "          [0.5181139 , 0.753408  , 0.7920635 ]],\n",
              " \n",
              "         [[0.5036415 , 0.43639234, 0.31371439],\n",
              "          [0.47649726, 0.4205082 , 0.3119181 ],\n",
              "          [0.4022409 , 0.37893602, 0.28067225],\n",
              "          ...,\n",
              "          [0.50943047, 0.7447246 , 0.7468721 ],\n",
              "          [0.51955456, 0.75864345, 0.77414304],\n",
              "          [0.49989548, 0.7405117 , 0.76656216]],\n",
              " \n",
              "         ...,\n",
              " \n",
              "         [[0.53213066, 0.781337  , 0.7945022 ],\n",
              "          [0.5171401 , 0.7620848 , 0.7719821 ],\n",
              "          [0.53350234, 0.7691699 , 0.78431374],\n",
              "          ...,\n",
              "          [0.6420167 , 0.6645747 , 0.62730193],\n",
              "          [0.6891288 , 0.6958182 , 0.6324595 ],\n",
              "          [0.66889614, 0.6978634 , 0.61129767]],\n",
              " \n",
              "         [[0.5287449 , 0.7662865 , 0.77898496],\n",
              "          [0.51790726, 0.75348145, 0.75796324],\n",
              "          [0.5540016 , 0.7879285 , 0.79735225],\n",
              "          ...,\n",
              "          [0.5632787 , 0.65776986, 0.6281446 ],\n",
              "          [0.60148054, 0.6781913 , 0.63061225],\n",
              "          [0.56377214, 0.6468721 , 0.5762639 ]],\n",
              " \n",
              "         [[0.51466143, 0.72792006, 0.7408986 ],\n",
              "          [0.4999066 , 0.7231359 , 0.7323863 ],\n",
              "          [0.5610644 , 0.78652126, 0.7950291 ],\n",
              "          ...,\n",
              "          [0.52523243, 0.70132947, 0.66633767],\n",
              "          [0.6045819 , 0.7528612 , 0.6986261 ],\n",
              "          [0.59355736, 0.71988565, 0.659386  ]]],\n",
              " \n",
              " \n",
              "        [[[0.99607843, 0.99607843, 0.99607843],\n",
              "          [0.99607843, 0.99607843, 0.99607843],\n",
              "          [0.99607843, 0.99607843, 0.99607843],\n",
              "          ...,\n",
              "          [0.99607843, 0.998226  , 0.98394024],\n",
              "          [0.9664799 , 0.97040147, 0.9471522 ],\n",
              "          [0.99607843, 1.        , 0.9764706 ]],\n",
              " \n",
              "         [[0.99607843, 0.99607843, 0.99607843],\n",
              "          [0.99607843, 0.99607843, 0.99607843],\n",
              "          [0.99607843, 0.99607843, 0.99607843],\n",
              "          ...,\n",
              "          [0.9939309 , 0.99607843, 0.9817927 ],\n",
              "          [0.96134454, 0.9652661 , 0.9420168 ],\n",
              "          [0.99607843, 1.        , 0.9764706 ]],\n",
              " \n",
              "         [[0.99607843, 0.99607843, 0.99607843],\n",
              "          [0.99607843, 0.99607843, 0.99607843],\n",
              "          [0.99607843, 0.99607843, 0.99607843],\n",
              "          ...,\n",
              "          [0.99490243, 0.99705   , 0.9827642 ],\n",
              "          [0.96498597, 0.96890754, 0.9473056 ],\n",
              "          [0.99607843, 1.        , 0.9764706 ]],\n",
              " \n",
              "         ...,\n",
              " \n",
              "         [[0.79545814, 0.75979054, 0.8010603 ],\n",
              "          [0.76888084, 0.73321325, 0.7720554 ],\n",
              "          [0.7302698 , 0.69299704, 0.72517216],\n",
              "          ...,\n",
              "          [0.4570676 , 0.4862926 , 0.5272823 ],\n",
              "          [0.50558877, 0.52575684, 0.5462984 ],\n",
              "          [0.97340703, 0.98310655, 0.9881374 ]],\n",
              " \n",
              "         [[0.75098705, 0.70570225, 0.7385687 ],\n",
              "          [0.73387355, 0.6904761 , 0.71482587],\n",
              "          [0.71347207, 0.6630519 , 0.69078296],\n",
              "          ...,\n",
              "          [0.40934387, 0.4309391 , 0.47227564],\n",
              "          [0.48255312, 0.49517816, 0.5229092 ],\n",
              "          [0.73652786, 0.7412897 , 0.7542683 ]],\n",
              " \n",
              "         [[0.7633076 , 0.70448405, 0.7257681 ],\n",
              "          [0.73221284, 0.6742297 , 0.69355744],\n",
              "          [0.70325685, 0.656198  , 0.6718843 ],\n",
              "          ...,\n",
              "          [0.59794587, 0.60728294, 0.62567693],\n",
              "          [0.56206495, 0.5648594 , 0.5782914 ],\n",
              "          [0.5631008 , 0.5631008 , 0.57094395]]],\n",
              " \n",
              " \n",
              "        ...,\n",
              " \n",
              " \n",
              "        [[[0.        , 0.        , 0.        ],\n",
              "          [0.        , 0.        , 0.        ],\n",
              "          [0.        , 0.        , 0.        ],\n",
              "          ...,\n",
              "          [0.        , 0.        , 0.        ],\n",
              "          [0.        , 0.        , 0.        ],\n",
              "          [0.        , 0.        , 0.        ]],\n",
              " \n",
              "         [[0.        , 0.        , 0.        ],\n",
              "          [0.        , 0.        , 0.        ],\n",
              "          [0.        , 0.        , 0.        ],\n",
              "          ...,\n",
              "          [0.        , 0.        , 0.        ],\n",
              "          [0.        , 0.        , 0.        ],\n",
              "          [0.        , 0.        , 0.        ]],\n",
              " \n",
              "         [[0.        , 0.        , 0.        ],\n",
              "          [0.        , 0.        , 0.        ],\n",
              "          [0.        , 0.        , 0.        ],\n",
              "          ...,\n",
              "          [0.        , 0.        , 0.        ],\n",
              "          [0.        , 0.        , 0.        ],\n",
              "          [0.        , 0.        , 0.        ]],\n",
              " \n",
              "         ...,\n",
              " \n",
              "         [[0.        , 0.        , 0.        ],\n",
              "          [0.        , 0.        , 0.        ],\n",
              "          [0.        , 0.        , 0.        ],\n",
              "          ...,\n",
              "          [0.12377167, 0.11200697, 0.15514421],\n",
              "          [0.13430035, 0.12253565, 0.1656729 ],\n",
              "          [0.13026318, 0.11849847, 0.16163573]],\n",
              " \n",
              "         [[0.        , 0.        , 0.        ],\n",
              "          [0.        , 0.        , 0.        ],\n",
              "          [0.        , 0.        , 0.        ],\n",
              "          ...,\n",
              "          [0.121782  , 0.1100173 , 0.15315455],\n",
              "          [0.07723081, 0.06546611, 0.10860336],\n",
              "          [0.1035547 , 0.09179   , 0.13492724]],\n",
              " \n",
              "         [[0.        , 0.        , 0.        ],\n",
              "          [0.        , 0.        , 0.        ],\n",
              "          [0.        , 0.        , 0.        ],\n",
              "          ...,\n",
              "          [0.14538936, 0.13362466, 0.17676191],\n",
              "          [0.10363469, 0.09186999, 0.13500725],\n",
              "          [0.07003023, 0.05826552, 0.10140277]]],\n",
              " \n",
              " \n",
              "        [[[0.05228091, 0.6576097 , 0.8351007 ],\n",
              "          [0.06031746, 0.6625517 , 0.83810854],\n",
              "          [0.06412343, 0.66545284, 0.83933127],\n",
              "          ...,\n",
              "          [0.08627451, 0.6862745 , 0.84705883],\n",
              "          [0.08627451, 0.6862745 , 0.84705883],\n",
              "          [0.08627451, 0.6862745 , 0.84705883]],\n",
              " \n",
              "         [[0.06358543, 0.65518206, 0.8235294 ],\n",
              "          [0.07873149, 0.662485  , 0.83111244],\n",
              "          [0.08263306, 0.66638654, 0.83336675],\n",
              "          ...,\n",
              "          [0.08655462, 0.6865546 , 0.8473389 ],\n",
              "          [0.08655462, 0.6865546 , 0.8473389 ],\n",
              "          [0.08655462, 0.6865546 , 0.8473389 ]],\n",
              " \n",
              "         [[0.07218666, 0.6600485 , 0.82829136],\n",
              "          [0.07933839, 0.6665133 , 0.8336801 ],\n",
              "          [0.08610556, 0.66961676, 0.8404473 ],\n",
              "          ...,\n",
              "          [0.09197012, 0.6919701 , 0.8527544 ],\n",
              "          [0.09197012, 0.6919701 , 0.8527544 ],\n",
              "          [0.09197012, 0.6919701 , 0.8527544 ]],\n",
              " \n",
              "         ...,\n",
              " \n",
              "         [[0.21464808, 0.5143079 , 0.73810637],\n",
              "          [0.40384823, 0.49504468, 0.58346677],\n",
              "          [0.5054334 , 0.44360417, 0.42806688],\n",
              "          ...,\n",
              "          [0.1667599 , 0.70657146, 0.9152171 ],\n",
              "          [0.20818335, 0.7212552 , 0.86931443],\n",
              "          [0.20037578, 0.54138786, 0.64232165]],\n",
              " \n",
              "         [[0.20278777, 0.47103503, 0.7012005 ],\n",
              "          [0.43281314, 0.4985794 , 0.5887955 ],\n",
              "          [0.5450381 , 0.46423903, 0.45688942],\n",
              "          ...,\n",
              "          [0.14295039, 0.6720822 , 0.8966386 ],\n",
              "          [0.15206085, 0.7047619 , 0.8818127 ],\n",
              "          [0.24064295, 0.66801393, 0.80945724]],\n",
              " \n",
              "         [[0.17908496, 0.42259568, 0.6531279 ],\n",
              "          [0.43183273, 0.48057225, 0.5788915 ],\n",
              "          [0.54656976, 0.4576208 , 0.4532213 ],\n",
              "          ...,\n",
              "          [0.11232486, 0.64537823, 0.85854346],\n",
              "          [0.11521941, 0.6914099 , 0.8653594 ],\n",
              "          [0.19812816, 0.66722465, 0.83081234]]],\n",
              " \n",
              " \n",
              "        [[[0.99607843, 0.99607843, 0.99607843],\n",
              "          [0.99607843, 0.99607843, 0.99607843],\n",
              "          [0.99607843, 0.99607843, 0.99607843],\n",
              "          ...,\n",
              "          [0.990943  , 0.99701214, 0.959197  ],\n",
              "          [0.9369748 , 0.937535  , 0.8980392 ],\n",
              "          [0.99215686, 0.99215686, 0.9529412 ]],\n",
              " \n",
              "         [[0.99607843, 0.99607843, 0.99607843],\n",
              "          [0.99607843, 0.99607843, 0.99607843],\n",
              "          [0.99607843, 0.99607843, 0.99607843],\n",
              "          ...,\n",
              "          [0.9944578 , 0.998226  , 0.96726024],\n",
              "          [0.9302521 , 0.937555  , 0.8960384 ],\n",
              "          [0.99579835, 0.9963585 , 0.95686275]],\n",
              " \n",
              "         [[0.99607843, 0.99607843, 0.99607843],\n",
              "          [0.99607843, 0.99607843, 0.99607843],\n",
              "          [0.99607843, 0.99607843, 0.99607843],\n",
              "          ...,\n",
              "          [0.9917278 , 0.99725443, 0.97057045],\n",
              "          [0.92477655, 0.9286981 , 0.897579  ],\n",
              "          [0.9886088 , 0.99467784, 0.95686275]],\n",
              " \n",
              "         ...,\n",
              " \n",
              "         [[0.66616523, 0.67281675, 0.7251977 ],\n",
              "          [0.7734363 , 0.770295  , 0.8084836 ],\n",
              "          [0.7884198 , 0.7629473 , 0.7805766 ],\n",
              "          ...,\n",
              "          [0.42216447, 0.45531106, 0.47062382],\n",
              "          [0.87743795, 0.89175695, 0.89459145],\n",
              "          [0.99215686, 1.        , 0.9949802 ]],\n",
              " \n",
              "         [[0.76388544, 0.75519526, 0.77789766],\n",
              "          [0.7355141 , 0.7119847 , 0.72819114],\n",
              "          [0.69757897, 0.655222  , 0.6575496 ],\n",
              "          ...,\n",
              "          [0.4127118 , 0.43315995, 0.4485661 ],\n",
              "          [0.4742495 , 0.48995575, 0.49443755],\n",
              "          [0.99215686, 1.        , 0.9938242 ]],\n",
              " \n",
              "         [[0.6644235 , 0.6408941 , 0.6565804 ],\n",
              "          [0.6638522 , 0.6201747 , 0.6353875 ],\n",
              "          [0.64435107, 0.5883509 , 0.5889    ],\n",
              "          ...,\n",
              "          [0.71958774, 0.7171601 , 0.7248876 ],\n",
              "          [0.642177  , 0.64200354, 0.63983595],\n",
              "          [0.88749284, 0.8887066 , 0.87554586]]]], dtype=float32),\n",
              " array([1., 0., 1., 1., 0., 0., 1., 0., 1., 0., 1., 0., 0., 0., 0., 1.],\n",
              "       dtype=float32))"
            ]
          },
          "execution_count": 34,
          "metadata": {},
          "output_type": "execute_result"
        }
      ],
      "source": [
        "batch_1"
      ]
    },
    {
      "cell_type": "code",
      "execution_count": 30,
      "metadata": {},
      "outputs": [],
      "source": [
        "# Define the training step for each batch of data based on the following steps:\n",
        "# 1. Make a prediction\n",
        "# 2. Calculate loss\n",
        "# 3. Derive gradients\n",
        "# 4. Calculate new weights and apply\n",
        "\n",
        "@tf.function # Compiles the function into callable TensorFlow graph\n",
        "             # aka it helps train the model efficiently\n",
        "def train_step(batch):\n",
        "    with tf.GradientTape() as tape: # Helps us can capture the garients\n",
        "        # Get anchor and positive/negative image\n",
        "        x = batch[:2]  # Each batch cointains 16 anchors, 16 positives/negatives and 16 labels\n",
        "        # Get label\n",
        "        y_true = batch[2]\n",
        "\n",
        "        y_pred = siamese_model(x, training=True) # Make a prediction\n",
        "                                               # **Training = True is importanyt to activate all the layers\n",
        "        # Calculate loss\n",
        "        loss = binary_cross_loss(y_true, y_pred) # Calculate loss (true value, prediction)\n",
        "    \n",
        "    # Calculate gradients with respect to the loss\n",
        "    grad = tape.gradient(loss, siamese_model.trainable_variables)\n",
        "\n",
        "    # Update weights and apply to siamese model\n",
        "    opt.apply_gradients(zip(grad, siamese_model.trainable_variables))\n",
        "\n",
        "    #return loss"
      ]
    },
    {
      "cell_type": "code",
      "execution_count": 31,
      "metadata": {},
      "outputs": [],
      "source": [
        "# Train loop\n",
        "def train(data, EPOCHS):\n",
        "    # Loop through epochs\n",
        "    for epoch in range(1, EPOCHS + 1):\n",
        "        print(\"'n Epoch {}/{}\".format(epoch, EPOCHS)) # Optional and simply for the visuals\n",
        "        progbar = tf.keras.utils.Progbar(len(data)) # -//-\n",
        "\n",
        "        # Look through each batch\n",
        "        for idx, batch in enumerate(data):\n",
        "            # Run train step\n",
        "            train_step(batch)\n",
        "            progbar.update(idx + 1) \n",
        "\n",
        "        # Save checkpoints\n",
        "        if epoch % 10 == 0:\n",
        "            checkpoint.save(file_prefix=checkpoint_prefix)\n",
        "\n",
        "\n"
      ]
    },
    {
      "cell_type": "code",
      "execution_count": 32,
      "metadata": {},
      "outputs": [],
      "source": [
        "EPOCHS = 50"
      ]
    },
    {
      "cell_type": "code",
      "execution_count": null,
      "metadata": {},
      "outputs": [],
      "source": [
        "train(train_data, EPOCHS)"
      ]
    },
    {
      "cell_type": "code",
      "execution_count": null,
      "metadata": {},
      "outputs": [],
      "source": [
        "from tensorflow.python.keras.metrics import Recall\n",
        "# Note: Precision demonstrates the proporion of correct positive identifications\n",
        "#       Recall demostrates the proportion of the ACTUAL positive that were correctly identified"
      ]
    },
    {
      "cell_type": "code",
      "execution_count": 42,
      "metadata": {},
      "outputs": [],
      "source": [
        "# Evaluate the model\n",
        "\n",
        "# Get a batch of data\n",
        "test_input, test_value, y_true = test_data.as_numpy_iterator().next()"
      ]
    },
    {
      "cell_type": "code",
      "execution_count": 43,
      "metadata": {},
      "outputs": [
        {
          "data": {
            "text/plain": [
              "array([1., 0., 1., 0., 1., 1., 0., 1., 1., 1., 0., 0., 1., 1., 0., 0.],\n",
              "      dtype=float32)"
            ]
          },
          "execution_count": 43,
          "metadata": {},
          "output_type": "execute_result"
        }
      ],
      "source": [
        "y_true"
      ]
    },
    {
      "cell_type": "code",
      "execution_count": 44,
      "metadata": {},
      "outputs": [],
      "source": [
        "# Make predictions\n",
        "y_pred = siamese_model.predict([test_input, test_value])"
      ]
    },
    {
      "cell_type": "code",
      "execution_count": 45,
      "metadata": {},
      "outputs": [
        {
          "data": {
            "text/plain": [
              "array([[9.9870914e-01],\n",
              "       [1.3241939e-07],\n",
              "       [1.0000000e+00],\n",
              "       [5.5191106e-13],\n",
              "       [9.9999988e-01],\n",
              "       [9.9988294e-01],\n",
              "       [5.2315460e-07],\n",
              "       [9.9999607e-01],\n",
              "       [9.9962521e-01],\n",
              "       [9.9996722e-01],\n",
              "       [3.1029652e-12],\n",
              "       [6.7798722e-10],\n",
              "       [9.9998313e-01],\n",
              "       [1.0000000e+00],\n",
              "       [9.2673785e-13],\n",
              "       [1.1804138e-11]], dtype=float32)"
            ]
          },
          "execution_count": 45,
          "metadata": {},
          "output_type": "execute_result"
        }
      ],
      "source": [
        "y_pred"
      ]
    },
    {
      "cell_type": "code",
      "execution_count": 46,
      "metadata": {},
      "outputs": [
        {
          "data": {
            "text/plain": [
              "array([1., 0., 1., 0., 1., 1., 0., 1., 1., 1., 0., 0., 1., 1., 0., 0.],\n",
              "      dtype=float32)"
            ]
          },
          "execution_count": 46,
          "metadata": {},
          "output_type": "execute_result"
        }
      ],
      "source": [
        "y_true"
      ]
    },
    {
      "cell_type": "code",
      "execution_count": 47,
      "metadata": {},
      "outputs": [
        {
          "data": {
            "text/plain": [
              "[1, 0, 1, 0, 1, 1, 0, 1, 1, 1, 0, 0, 1, 1, 0, 0]"
            ]
          },
          "execution_count": 47,
          "metadata": {},
          "output_type": "execute_result"
        }
      ],
      "source": [
        "[1 if prediction > 0.5 else 0 for prediction in y_pred]"
      ]
    },
    {
      "cell_type": "code",
      "execution_count": 48,
      "metadata": {},
      "outputs": [
        {
          "data": {
            "text/plain": [
              "1.0"
            ]
          },
          "execution_count": 48,
          "metadata": {},
          "output_type": "execute_result"
        }
      ],
      "source": [
        "# Post processing the results (aka we create a threshhold so that any numbers above that \n",
        "# become => 1 otherwise => 0)\n",
        "[1 if prediction > 0.5 else 0 for prediction in y_pred]\n",
        "\n",
        "# Compare the above list to the labels to see if the outputs match the real results\n",
        "m = Recall()\n",
        "\n",
        "# Calculate the recall value\n",
        "m.update_state(y_true,y_pred)\n",
        "\n",
        "# Return the recall result (pretty much how accurate the model is)\n",
        "# 1 = perfect  |   0 = horibble\n",
        "m.result().numpy()"
      ]
    },
    {
      "cell_type": "code",
      "execution_count": null,
      "metadata": {},
      "outputs": [],
      "source": [
        "# Visualise the results\n",
        "plt.figure(figsize=(10, 8))\n",
        "plt.subplot(1,2,1)\n",
        "plt.imshow(test_input[1])\n",
        "plt.subplot(1,2,2)\n",
        "plt.imshow(test_value[1])\n",
        "plt.show()"
      ]
    },
    {
      "cell_type": "code",
      "execution_count": null,
      "metadata": {},
      "outputs": [],
      "source": [
        "# Save Model\n",
        "siamese_model.save(\"siamesemodelx.h5\")"
      ]
    },
    {
      "cell_type": "code",
      "execution_count": 92,
      "metadata": {},
      "outputs": [],
      "source": [
        "# Reload Model\n",
        "l_model = tf.keras.models.load_model(\"siamesemodelx.h5\")"
      ]
    },
    {
      "cell_type": "code",
      "execution_count": 93,
      "metadata": {},
      "outputs": [
        {
          "name": "stdout",
          "output_type": "stream",
          "text": [
            "Model: \"Siamese_Network\"\n",
            "__________________________________________________________________________________________________\n",
            " Layer (type)                   Output Shape         Param #     Connected to                     \n",
            "==================================================================================================\n",
            " input_img (InputLayer)         [(None, 105, 105, 3  0           []                               \n",
            "                                )]                                                                \n",
            "                                                                                                  \n",
            " validation_img (InputLayer)    [(None, 105, 105, 3  0           []                               \n",
            "                                )]                                                                \n",
            "                                                                                                  \n",
            " embedding (Functional)         (None, 4096)         38960448    ['input_img[0][0]',              \n",
            "                                                                  'validation_img[0][0]']         \n",
            "                                                                                                  \n",
            " l1_distance (Lambda)           (None, 4096)         0           ['embedding[0][0]',              \n",
            "                                                                  'embedding[1][0]']              \n",
            "                                                                                                  \n",
            " dense_1 (Dense)                (None, 1)            4097        ['l1_distance[0][0]']            \n",
            "                                                                                                  \n",
            "==================================================================================================\n",
            "Total params: 38,964,545\n",
            "Trainable params: 38,964,545\n",
            "Non-trainable params: 0\n",
            "__________________________________________________________________________________________________\n"
          ]
        }
      ],
      "source": [
        "l_model.summary()"
      ]
    },
    {
      "cell_type": "code",
      "execution_count": 6,
      "metadata": {},
      "outputs": [],
      "source": [
        "app_ver_path = os.path.join(\"application_data\", \"verification_images\")\n",
        "app_inp_path = os.path.join(\"application_data\", \"input_image\")\n",
        "\n",
        "os.makedirs(app_ver_path)\n",
        "os.makedirs(app_inp_path)"
      ]
    },
    {
      "cell_type": "code",
      "execution_count": 11,
      "metadata": {},
      "outputs": [],
      "source": [
        "# List all files in the source directory\n",
        "all_files = os.listdir(pos_path)\n",
        "\n",
        "# Randomly select 50 unique files\n",
        "selected_files = random.sample(all_files, 50)\n",
        "\n",
        "# Iterate through the selected files and copy them to the destination directory\n",
        "for filename in selected_files:\n",
        "    source_file = os.path.join(pos_path, filename)\n",
        "    destination_file = os.path.join(app_ver_path, filename)\n",
        "    shutil.copy2(source_file, destination_file)\n",
        "    #print(f'Copied: {filename} to {destination_directory}')"
      ]
    },
    {
      "cell_type": "code",
      "execution_count": 57,
      "metadata": {},
      "outputs": [],
      "source": [
        "def verify(model, detection_threshold, verification_threshold):\n",
        "    # Build results array\n",
        "    results = []\n",
        "    for image in os.listdir(os.path.join(app_ver_path)):\n",
        "        input_img = preprocess(os.path.join(\"application_data\", \"input_image\", \"input_image.jpg\"))\n",
        "        validation_img = preprocess(os.path.join(\"application_data\", \"verification_images\", image))\n",
        "\n",
        "        # Make predictions\n",
        "        result = model.predict(list(np.expand_dims([input_img, validation_img], axis = 1)))\n",
        "        results.append(result)\n",
        "    \n",
        "    # Detection Threshold: A metric above which a prediction is considered positive\n",
        "    detection = np.sum(np.array(results) > detection_threshold)\n",
        "    \n",
        "    # Verification Threshold: Proportion of positive predictions in regards to the total positive samples\n",
        "    verification = detection / len(os.listdir(os.path.join(\"application_data\", \"verification_images\")))\n",
        "    verified = verification > verification_threshold\n",
        "    \n",
        "    return results, verified\n"
      ]
    },
    {
      "cell_type": "code",
      "execution_count": 4,
      "metadata": {},
      "outputs": [
        {
          "data": {
            "text/plain": [
              "50"
            ]
          },
          "execution_count": 4,
          "metadata": {},
          "output_type": "execute_result"
        }
      ],
      "source": [
        "len(os.listdir(os.path.join(\"application_data\", \"verification_images\")))"
      ]
    },
    {
      "cell_type": "code",
      "execution_count": null,
      "metadata": {},
      "outputs": [],
      "source": [
        "# OpenCV Real Time Verification\n",
        "cap = cv2.VideoCapture(0)\n",
        "while cap.isOpened():\n",
        "    ret, frame = cap.read()\n",
        "\n",
        "    frame = frame[120:370, 200:450, :]\n",
        "\n",
        "    cv2.imshow(\"Verification\", frame)\n",
        "\n",
        "    # Verification trigger\n",
        "    if cv2.waitKey(10) & 0xFF == ord('v'):\n",
        "        # Save input image to application_data/input_image folder\n",
        "        cv2.imwrite(os.path.join(\"application_data\", \"input_image\", \"input_image.jpg\"), frame)\n",
        "\n",
        "        # Run verification l_model\n",
        "        results, verified = verify(siamese_model, 0.5, 0.5)\n",
        "        print(verified)\n",
        "    if cv2.waitKey(10) & 0xFF == ord('q'):\n",
        "        break\n",
        "\n",
        "cap.release()\n",
        "cv2.destroyAllWindows()"
      ]
    }
  ],
  "metadata": {
    "kernelspec": {
      "display_name": "Python 3",
      "language": "python",
      "name": "python3"
    },
    "language_info": {
      "codemirror_mode": {
        "name": "ipython",
        "version": 3
      },
      "file_extension": ".py",
      "mimetype": "text/x-python",
      "name": "python",
      "nbconvert_exporter": "python",
      "pygments_lexer": "ipython3",
      "version": "3.10.8"
    }
  },
  "nbformat": 4,
  "nbformat_minor": 4
}
