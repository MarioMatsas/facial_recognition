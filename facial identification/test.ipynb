{
  "cells": [
    {
      "cell_type": "code",
      "execution_count": null,
      "metadata": {
        "trusted": true
      },
      "outputs": [],
      "source": [
        "%pip install tensorflow opencv-python matplotlib"
      ]
    },
    {
      "cell_type": "code",
      "execution_count": null,
      "metadata": {},
      "outputs": [],
      "source": [
        "# Standard dependencies\n",
        "import cv2\n",
        "import os\n",
        "import random\n",
        "import numpy as np # For re-shaping arrays\n",
        "from matplotlib import pyplot as plt # Visualise images\n",
        "\n",
        "# Tensorflow dependencies\n",
        "import tensorflow as tf\n",
        "from tensorflow.python.keras.models import Model\n",
        "from tensorflow.python.keras.layers import Layer, Conv2D, Dense, MaxPooling2D, Input, Flatten"
      ]
    },
    {
      "cell_type": "code",
      "execution_count": null,
      "metadata": {},
      "outputs": [],
      "source": [
        "# To avoid running out of memory, we restrict the GPU memory growth aka\n",
        "# how many resources the model is consuming at any given time\n",
        "gpus = tf.config.experimental.list_physical_devices('GPU')\n",
        "for gpu in gpus:\n",
        "    # Just in case the device we are using has more than one gpu, we are \n",
        "    # making sure to restrict the usage of ALL of them\n",
        "    tf.config.experimental.set_memory_growth(gpu, True)"
      ]
    },
    {
      "cell_type": "code",
      "execution_count": null,
      "metadata": {},
      "outputs": [],
      "source": [
        "# Create files that will hold the anchor, positive and negative images:\n",
        "# Anchor: The image we imput\n",
        "# Positive: Images that match the anchor\n",
        "# Negative: Images that are different from the anchor\n",
        "anc_path = os.path.join(\"data\",\"anchor\")\n",
        "pos_path = os.path.join(\"data\",\"positive\")\n",
        "neg_path = os.path.join(\"data\",\"negative\")\n",
        "\n",
        "os.makedirs(anc_path)\n",
        "os.makedirs(pos_path)\n",
        "os.makedirs(neg_path)\n"
      ]
    },
    {
      "cell_type": "code",
      "execution_count": null,
      "metadata": {},
      "outputs": [],
      "source": [
        "# Uncompress the tar file that contains the images in the Wild Dataface\n",
        "!tar -xf lfw.tgz"
      ]
    },
    {
      "cell_type": "code",
      "execution_count": null,
      "metadata": {},
      "outputs": [],
      "source": [
        "# We take the images that we downloaded and place in the negative folder\n",
        "# (these images will be used so that the machine can understand that the\n",
        "# person whose image we are providing isn't the same as any of the ones in\n",
        "# the negative folder)\n",
        "\n",
        "# Go through all the directories in the lfw folder\n",
        "for directory in os.listdir('lfw'):\n",
        "    # Find all the images in said directory\n",
        "    for file in os.listdir(os.path.join('lfw',directory)):\n",
        "        # Replace the path of that image with the path of the negative folder\n",
        "        # (aka place the image in the negative folder)\n",
        "        previous_path = os.path.join('lfw', directory, file)\n",
        "        new_path = os.path.join(neg_path, file)\n",
        "        os.replace(previous_path, new_path)"
      ]
    },
    {
      "cell_type": "code",
      "execution_count": null,
      "metadata": {},
      "outputs": [],
      "source": [
        "# Importing this so that the images we save  all have different names\n",
        "import uuid\n",
        "\n",
        "# Now we will get the images we will require for the anchor and positive files\n",
        "\n",
        "# Connect to the webcam\n",
        "capture = cv2.VideoCapture(0) # Keep in mind this number might vary slightly\n",
        "                              # so try out a few other numbers like 1, 2, 3, 4, 5 etc in case there is a problem\n",
        "while (capture.isOpened()):\n",
        "    return_value, frame = capture.read()\n",
        "\n",
        "    # Keeping in mind that the images in the negative folder have a resolution of 250x250\n",
        "    # we need out frames (aka the images we will capture) to be 250x250 as well\n",
        "    frame = frame[120:370, 200:450, :]\n",
        "\n",
        "    # Show the camera feed\n",
        "    cv2.imshow(\"Images\", frame)\n",
        "\n",
        "    # Add image to anchor if 'a' is pressed\n",
        "    if (cv2.waitKey(1) & 0XFF == ord('a')):\n",
        "        # Create the unique name and save the image\n",
        "        name = os.path.join(anc_path, '{}.jpg'.format(uuid.uuid1()))\n",
        "        cv2.imwrite(name, frame)\n",
        "    \n",
        "    # Add image to positive if 'p' is pressed\n",
        "    if (cv2.waitKey(1) & 0XFF == ord('p')):\n",
        "        # Create the unique name and save the image\n",
        "        name = os.path.join(pos_path, '{}.jpg'.format(uuid.uuid1()))\n",
        "        cv2.imwrite(name, frame)\n",
        "\n",
        "    # Break by pressing he 'q' key\n",
        "    if (cv2.waitKey(1) & 0XFF == ord('q')):\n",
        "        break\n",
        "\n",
        "# Release webcam\n",
        "capture.release()\n",
        "# Close the camera feed window\n",
        "cv2.destroyAllWindows()"
      ]
    },
    {
      "cell_type": "code",
      "execution_count": null,
      "metadata": {},
      "outputs": [],
      "source": [
        "# Get 300 image paths from each image set\n",
        "anchor = tf.data.Dataset.list_files(anc_path+'\\*.jpg').take(300)\n",
        "positive = tf.data.Dataset.list_files(pos_path+'\\*.jpg').take(300)\n",
        "negative = tf.data.Dataset.list_files(neg_path+'\\*.jpg').take(300)"
      ]
    },
    {
      "cell_type": "code",
      "execution_count": null,
      "metadata": {},
      "outputs": [],
      "source": [
        "# Scale and resize the images\n",
        "def preprocess(file_path):\n",
        "    # Get byte code of image (the file path) and then decode it\n",
        "    byte_img = tf.io.read_file(file_path)\n",
        "    img = tf.io.decode_jpeg(byte_img)\n",
        "\n",
        "    img = tf.image.resize(img, (105, 105)) # Resizing out image according to the \"Siamese Neural Networks\"\n",
        "                                           # research paper\n",
        "    img = img / 255 # Scale every pixel value to 0-1 => scale the image\n",
        "    return img"
      ]
    },
    {
      "cell_type": "code",
      "execution_count": null,
      "metadata": {},
      "outputs": [],
      "source": [
        "# Depending on the inputs (anchor, positive) or (anchor, negative) we will be\n",
        "# getting a result ( a label ) as follows:\n",
        "# (anchor, positive) => 1\n",
        "# (anchor, negative) => 0\n",
        "\n",
        "positives = tf.data.Dataset.zip((anchor, positive, tf.data.Dataset.from_tensor_slices(tf.ones(len(anchor)))))\n",
        "negatives = tf.data.Dataset.zip((anchor, negative, tf.data.Dataset.from_tensor_slices(tf.zeros(len(anchor)))))\n",
        "data = positives.concatenate(negatives) # Combine the positives and negatives"
      ]
    },
    {
      "cell_type": "code",
      "execution_count": null,
      "metadata": {},
      "outputs": [],
      "source": [
        "samples = data.as_numpy_iterator()"
      ]
    },
    {
      "cell_type": "code",
      "execution_count": null,
      "metadata": {},
      "outputs": [],
      "source": [
        "example = samples.next()\n"
      ]
    },
    {
      "cell_type": "code",
      "execution_count": null,
      "metadata": {},
      "outputs": [],
      "source": [
        "# Create function to scale and resize both images we pass\n",
        "def twin_preprocess(anc, verification_image, label):\n",
        "    return (preprocess(anc), preprocess(verification_image), label)\n",
        "\n",
        "res = twin_preprocess(*example)\n",
        "plt.imshow(res[0])"
      ]
    },
    {
      "cell_type": "code",
      "execution_count": null,
      "metadata": {},
      "outputs": [],
      "source": [
        "# Dataloader pipeline\n",
        "data = data.map(twin_preprocess) # ERROR TO_DO\n",
        "data = data.cache()\n",
        "data = data.shuffle(buffer_size=1024) # Simply mix the positive and negative images"
      ]
    },
    {
      "cell_type": "code",
      "execution_count": null,
      "metadata": {},
      "outputs": [],
      "source": [
        "# Training partition\n",
        "train_data = data.take((round(len(data)*0.7))) # Get 70% of the samples\n",
        "train_data = train_data.batch(16) # Pass 16 images each time\n",
        "train_data = train_data.prefetch(8) # Preprocess the next image beforehand\n"
      ]
    },
    {
      "cell_type": "code",
      "execution_count": null,
      "metadata": {},
      "outputs": [],
      "source": [
        "train_sumples = train_data.as_numpy_iterator()\n",
        "\n",
        "len(train_sumples.next()[0])"
      ]
    },
    {
      "cell_type": "code",
      "execution_count": null,
      "metadata": {},
      "outputs": [],
      "source": [
        "# Testing Partition\n",
        "test_data = data.skip((round(len(data)*0.7)))\n",
        "test_data = test_data.take((round(len(data)*0.3)))\n",
        "test_data = test_data.batch(16)\n",
        "test_data = test_data.prefetch(8)"
      ]
    }
  ],
  "metadata": {
    "kernelspec": {
      "display_name": "Python 3",
      "language": "python",
      "name": "python3"
    },
    "language_info": {
      "codemirror_mode": {
        "name": "ipython",
        "version": 3
      },
      "file_extension": ".py",
      "mimetype": "text/x-python",
      "name": "python",
      "nbconvert_exporter": "python",
      "pygments_lexer": "ipython3",
      "version": "3.10.8"
    }
  },
  "nbformat": 4,
  "nbformat_minor": 4
}
